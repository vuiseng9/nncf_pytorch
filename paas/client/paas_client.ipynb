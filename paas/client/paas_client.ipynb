{
 "cells": [
  {
   "cell_type": "markdown",
   "metadata": {},
   "source": [
    "# Sample client usage of Filter Pruning Service"
   ]
  },
  {
   "cell_type": "markdown",
   "metadata": {},
   "source": [
    "#### sample to set up service server\n",
    "see https://github.com/vuiseng9/nncf/blob/paas/paas/host_paas_image_classification.sh\n",
    "    "
   ]
  },
  {
   "cell_type": "code",
   "execution_count": 1,
   "metadata": {},
   "outputs": [],
   "source": [
    "import os, time, random, torch, sys, requests, json\n",
    "import numpy as np, pandas as pd\n",
    "from copy import deepcopy\n",
    "from matplotlib import pyplot as plt\n",
    "%matplotlib inline"
   ]
  },
  {
   "cell_type": "code",
   "execution_count": 5,
   "metadata": {},
   "outputs": [],
   "source": [
    "host_url = 'http://csr-dgx1-03.jf.intel.com:5000/'"
   ]
  },
  {
   "cell_type": "code",
   "execution_count": 6,
   "metadata": {},
   "outputs": [],
   "source": [
    "url_ready = host_url + 'ready_state'\n",
    "url_graphviz = host_url + 'get_model_graph_viz'\n",
    "url_optype = host_url + 'get_node2optype_map'\n",
    "url_connectivity = host_url + 'get_connectivity_map'\n",
    "url_prunable = host_url + 'get_prunable_attr'\n",
    "url_eval_req = host_url + 'sample_eval_req'\n",
    "url_evaluate = host_url + 'evaluate'"
   ]
  },
  {
   "cell_type": "markdown",
   "metadata": {},
   "source": [
    "#### Check if service is ready"
   ]
  },
  {
   "cell_type": "code",
   "execution_count": 7,
   "metadata": {},
   "outputs": [
    {
     "data": {
      "text/plain": [
       "{'config': '/home/vchua/nemo-prune/nncf/paas/cfg/vgg11_pruning_magnitude.json',\n",
       " 'method': 'ready_state',\n",
       " 'msg': 'Environment imgnet initialized',\n",
       " 'rc': 0}"
      ]
     },
     "execution_count": 7,
     "metadata": {},
     "output_type": "execute_result"
    }
   ],
   "source": [
    "requests.get(url=url_ready).json()"
   ]
  },
  {
   "cell_type": "markdown",
   "metadata": {},
   "source": [
    "#### Graph visualization"
   ]
  },
  {
   "cell_type": "code",
   "execution_count": 8,
   "metadata": {},
   "outputs": [
    {
     "name": "stdout",
     "output_type": "stream",
     "text": [
      "Note: you can download through browser with this url http://csr-dgx1-03.jf.intel.com:5002/get_model_graph_viz\n"
     ]
    },
    {
     "data": {
      "text/plain": [
       "<matplotlib.image.AxesImage at 0x7f539f16f748>"
      ]
     },
     "execution_count": 8,
     "metadata": {},
     "output_type": "execute_result"
    },
    {
     "data": {
      "image/png": "[encoded data removed]",
      "text/plain": [
       "<Figure size 432x288 with 1 Axes>"
      ]
     },
     "metadata": {
      "needs_background": "light"
     },
     "output_type": "display_data"
    }
   ],
   "source": [
    "# download a copy of model graph with colorized prunable nodes\n",
    "print('Note: you can download through browser with this url {}'.format(url_graphviz))\n",
    "\n",
    "imgpth = 'model_graph.png'\n",
    "r = requests.get(url_graphviz, allow_redirects=True)\n",
    "with open(imgpth, 'wb') as fh:\n",
    "    fh.write(r.content)\n",
    "\n",
    "plt.imshow(plt.imread(imgpth))"
   ]
  },
  {
   "cell_type": "markdown",
   "metadata": {},
   "source": [
    "### Graph node to operation type"
   ]
  },
  {
   "cell_type": "code",
   "execution_count": 9,
   "metadata": {},
   "outputs": [
    {
     "data": {
      "text/plain": [
       "{'0 /nncf_model_input': 'nncf_model_input',\n",
       " '1 ResNet/NNCFConv2d[conv1]/conv2d': 'conv2d',\n",
       " '10 ResNet/Sequential[layer1]/BasicBlock[0]/__iadd__': '__iadd__',\n",
       " '11 ResNet/Sequential[layer1]/BasicBlock[0]/ReLU[relu]/RELU': 'RELU',\n",
       " '12 ResNet/Sequential[layer1]/BasicBlock[1]/NNCFConv2d[conv1]/conv2d': 'conv2d',\n",
       " '13 ResNet/Sequential[layer1]/BasicBlock[1]/BatchNorm2d[bn1]/batch_norm': 'batch_norm',\n",
       " '14 ResNet/Sequential[layer1]/BasicBlock[1]/ReLU[relu]/RELU': 'RELU',\n",
       " '15 ResNet/Sequential[layer1]/BasicBlock[1]/NNCFConv2d[conv2]/conv2d': 'conv2d',\n",
       " '16 ResNet/Sequential[layer1]/BasicBlock[1]/BatchNorm2d[bn2]/batch_norm': 'batch_norm',\n",
       " '17 ResNet/Sequential[layer1]/BasicBlock[1]/__iadd__': '__iadd__',\n",
       " '18 ResNet/Sequential[layer1]/BasicBlock[1]/ReLU[relu]/RELU': 'RELU',\n",
       " '19 ResNet/Sequential[layer2]/BasicBlock[0]/NNCFConv2d[conv1]/conv2d': 'conv2d',\n",
       " '2 ResNet/BatchNorm2d[bn1]/batch_norm': 'batch_norm',\n",
       " '20 ResNet/Sequential[layer2]/BasicBlock[0]/BatchNorm2d[bn1]/batch_norm': 'batch_norm',\n",
       " '21 ResNet/Sequential[layer2]/BasicBlock[0]/ReLU[relu]/RELU': 'RELU',\n",
       " '22 ResNet/Sequential[layer2]/BasicBlock[0]/NNCFConv2d[conv2]/conv2d': 'conv2d',\n",
       " '23 ResNet/Sequential[layer2]/BasicBlock[0]/BatchNorm2d[bn2]/batch_norm': 'batch_norm',\n",
       " '24 ResNet/Sequential[layer2]/BasicBlock[0]/Sequential[downsample]/NNCFConv2d[0]/conv2d': 'conv2d',\n",
       " '25 ResNet/Sequential[layer2]/BasicBlock[0]/Sequential[downsample]/BatchNorm2d[1]/batch_norm': 'batch_norm',\n",
       " '26 ResNet/Sequential[layer2]/BasicBlock[0]/__iadd__': '__iadd__',\n",
       " '27 ResNet/Sequential[layer2]/BasicBlock[0]/ReLU[relu]/RELU': 'RELU',\n",
       " '28 ResNet/Sequential[layer2]/BasicBlock[1]/NNCFConv2d[conv1]/conv2d': 'conv2d',\n",
       " '29 ResNet/Sequential[layer2]/BasicBlock[1]/BatchNorm2d[bn1]/batch_norm': 'batch_norm',\n",
       " '3 ResNet/ReLU[relu]/RELU': 'RELU',\n",
       " '30 ResNet/Sequential[layer2]/BasicBlock[1]/ReLU[relu]/RELU': 'RELU',\n",
       " '31 ResNet/Sequential[layer2]/BasicBlock[1]/NNCFConv2d[conv2]/conv2d': 'conv2d',\n",
       " '32 ResNet/Sequential[layer2]/BasicBlock[1]/BatchNorm2d[bn2]/batch_norm': 'batch_norm',\n",
       " '33 ResNet/Sequential[layer2]/BasicBlock[1]/__iadd__': '__iadd__',\n",
       " '34 ResNet/Sequential[layer2]/BasicBlock[1]/ReLU[relu]/RELU': 'RELU',\n",
       " '35 ResNet/Sequential[layer3]/BasicBlock[0]/NNCFConv2d[conv1]/conv2d': 'conv2d',\n",
       " '36 ResNet/Sequential[layer3]/BasicBlock[0]/BatchNorm2d[bn1]/batch_norm': 'batch_norm',\n",
       " '37 ResNet/Sequential[layer3]/BasicBlock[0]/ReLU[relu]/RELU': 'RELU',\n",
       " '38 ResNet/Sequential[layer3]/BasicBlock[0]/NNCFConv2d[conv2]/conv2d': 'conv2d',\n",
       " '39 ResNet/Sequential[layer3]/BasicBlock[0]/BatchNorm2d[bn2]/batch_norm': 'batch_norm',\n",
       " '4 ResNet/MaxPool2d[maxpool]/max_pool2d': 'max_pool2d',\n",
       " '40 ResNet/Sequential[layer3]/BasicBlock[0]/Sequential[downsample]/NNCFConv2d[0]/conv2d': 'conv2d',\n",
       " '41 ResNet/Sequential[layer3]/BasicBlock[0]/Sequential[downsample]/BatchNorm2d[1]/batch_norm': 'batch_norm',\n",
       " '42 ResNet/Sequential[layer3]/BasicBlock[0]/__iadd__': '__iadd__',\n",
       " '43 ResNet/Sequential[layer3]/BasicBlock[0]/ReLU[relu]/RELU': 'RELU',\n",
       " '44 ResNet/Sequential[layer3]/BasicBlock[1]/NNCFConv2d[conv1]/conv2d': 'conv2d',\n",
       " '45 ResNet/Sequential[layer3]/BasicBlock[1]/BatchNorm2d[bn1]/batch_norm': 'batch_norm',\n",
       " '46 ResNet/Sequential[layer3]/BasicBlock[1]/ReLU[relu]/RELU': 'RELU',\n",
       " '47 ResNet/Sequential[layer3]/BasicBlock[1]/NNCFConv2d[conv2]/conv2d': 'conv2d',\n",
       " '48 ResNet/Sequential[layer3]/BasicBlock[1]/BatchNorm2d[bn2]/batch_norm': 'batch_norm',\n",
       " '49 ResNet/Sequential[layer3]/BasicBlock[1]/__iadd__': '__iadd__',\n",
       " '5 ResNet/Sequential[layer1]/BasicBlock[0]/NNCFConv2d[conv1]/conv2d': 'conv2d',\n",
       " '50 ResNet/Sequential[layer3]/BasicBlock[1]/ReLU[relu]/RELU': 'RELU',\n",
       " '51 ResNet/Sequential[layer4]/BasicBlock[0]/NNCFConv2d[conv1]/conv2d': 'conv2d',\n",
       " '52 ResNet/Sequential[layer4]/BasicBlock[0]/BatchNorm2d[bn1]/batch_norm': 'batch_norm',\n",
       " '53 ResNet/Sequential[layer4]/BasicBlock[0]/ReLU[relu]/RELU': 'RELU',\n",
       " '54 ResNet/Sequential[layer4]/BasicBlock[0]/NNCFConv2d[conv2]/conv2d': 'conv2d',\n",
       " '55 ResNet/Sequential[layer4]/BasicBlock[0]/BatchNorm2d[bn2]/batch_norm': 'batch_norm',\n",
       " '56 ResNet/Sequential[layer4]/BasicBlock[0]/Sequential[downsample]/NNCFConv2d[0]/conv2d': 'conv2d',\n",
       " '57 ResNet/Sequential[layer4]/BasicBlock[0]/Sequential[downsample]/BatchNorm2d[1]/batch_norm': 'batch_norm',\n",
       " '58 ResNet/Sequential[layer4]/BasicBlock[0]/__iadd__': '__iadd__',\n",
       " '59 ResNet/Sequential[layer4]/BasicBlock[0]/ReLU[relu]/RELU': 'RELU',\n",
       " '6 ResNet/Sequential[layer1]/BasicBlock[0]/BatchNorm2d[bn1]/batch_norm': 'batch_norm',\n",
       " '60 ResNet/Sequential[layer4]/BasicBlock[1]/NNCFConv2d[conv1]/conv2d': 'conv2d',\n",
       " '61 ResNet/Sequential[layer4]/BasicBlock[1]/BatchNorm2d[bn1]/batch_norm': 'batch_norm',\n",
       " '62 ResNet/Sequential[layer4]/BasicBlock[1]/ReLU[relu]/RELU': 'RELU',\n",
       " '63 ResNet/Sequential[layer4]/BasicBlock[1]/NNCFConv2d[conv2]/conv2d': 'conv2d',\n",
       " '64 ResNet/Sequential[layer4]/BasicBlock[1]/BatchNorm2d[bn2]/batch_norm': 'batch_norm',\n",
       " '65 ResNet/Sequential[layer4]/BasicBlock[1]/__iadd__': '__iadd__',\n",
       " '66 ResNet/Sequential[layer4]/BasicBlock[1]/ReLU[relu]/RELU': 'RELU',\n",
       " '67 ResNet/AdaptiveAvgPool2d[avgpool]/adaptive_avg_pool2d': 'adaptive_avg_pool2d',\n",
       " '68 ResNet/flatten': 'flatten',\n",
       " '69 ResNet/NNCFLinear[fc]/linear': 'linear',\n",
       " '7 ResNet/Sequential[layer1]/BasicBlock[0]/ReLU[relu]/RELU': 'RELU',\n",
       " '70 /nncf_model_output': 'nncf_model_output',\n",
       " '8 ResNet/Sequential[layer1]/BasicBlock[0]/NNCFConv2d[conv2]/conv2d': 'conv2d',\n",
       " '9 ResNet/Sequential[layer1]/BasicBlock[0]/BatchNorm2d[bn2]/batch_norm': 'batch_norm'}"
      ]
     },
     "execution_count": 9,
     "metadata": {},
     "output_type": "execute_result"
    }
   ],
   "source": [
    "node_type=requests.get(url=url_optype).json()\n",
    "node_type"
   ]
  },
  {
   "cell_type": "markdown",
   "metadata": {},
   "source": [
    "### Mapping of nodes"
   ]
  },
  {
   "cell_type": "code",
   "execution_count": 10,
   "metadata": {},
   "outputs": [
    {
     "name": "stdout",
     "output_type": "stream",
     "text": [
      "* (nncf_model_input) 0 /nncf_model_input\n",
      "\t-> (conv2d) 1 ResNet/NNCFConv2d[conv1]/conv2d\n",
      "\n",
      "* (conv2d) 1 ResNet/NNCFConv2d[conv1]/conv2d\n",
      "\t-> (batch_norm) 2 ResNet/BatchNorm2d[bn1]/batch_norm\n",
      "\n",
      "* (__iadd__) 10 ResNet/Sequential[layer1]/BasicBlock[0]/__iadd__\n",
      "\t-> (RELU) 11 ResNet/Sequential[layer1]/BasicBlock[0]/ReLU[relu]/RELU\n",
      "\n",
      "* (RELU) 11 ResNet/Sequential[layer1]/BasicBlock[0]/ReLU[relu]/RELU\n",
      "\t-> (conv2d) 12 ResNet/Sequential[layer1]/BasicBlock[1]/NNCFConv2d[conv1]/conv2d\n",
      "\t-> (__iadd__) 17 ResNet/Sequential[layer1]/BasicBlock[1]/__iadd__\n",
      "\n",
      "* (conv2d) 12 ResNet/Sequential[layer1]/BasicBlock[1]/NNCFConv2d[conv1]/conv2d\n",
      "\t-> (batch_norm) 13 ResNet/Sequential[layer1]/BasicBlock[1]/BatchNorm2d[bn1]/batch_norm\n",
      "\n",
      "* (batch_norm) 13 ResNet/Sequential[layer1]/BasicBlock[1]/BatchNorm2d[bn1]/batch_norm\n",
      "\t-> (RELU) 14 ResNet/Sequential[layer1]/BasicBlock[1]/ReLU[relu]/RELU\n",
      "\n"
     ]
    }
   ],
   "source": [
    "node_conn = requests.get(url=url_connectivity).json()\n",
    "# key of the dictionary is source node\n",
    "# value is a list of destination nodes\n",
    "\n",
    "# nodetype can be looked up via previous mapping\n",
    "\n",
    "for i, (src_node, dst_nodes) in enumerate(node_conn.items()):\n",
    "    print(\"* ({}) {}\".format(node_type[src_node], src_node))\n",
    "    for dst_node in dst_nodes:\n",
    "        print(\"\\t-> ({}) {}\".format(node_type[dst_node], dst_node))\n",
    "    print(\"\")\n",
    "    if i>=5:\n",
    "        break"
   ]
  },
  {
   "cell_type": "markdown",
   "metadata": {},
   "source": [
    "### Features of prunable nodes"
   ]
  },
  {
   "cell_type": "code",
   "execution_count": 11,
   "metadata": {},
   "outputs": [],
   "source": [
    "prunable_attr = requests.get(url=url_prunable).json()"
   ]
  },
  {
   "cell_type": "code",
   "execution_count": 12,
   "metadata": {},
   "outputs": [],
   "source": [
    "prunable_df = pd.DataFrame.from_dict(prunable_attr)"
   ]
  },
  {
   "cell_type": "code",
   "execution_count": 13,
   "metadata": {},
   "outputs": [
    {
     "data": {
      "text/html": [
       "<div>\n",
       "<style scoped>\n",
       "    .dataframe tbody tr th:only-of-type {\n",
       "        vertical-align: middle;\n",
       "    }\n",
       "\n",
       "    .dataframe tbody tr th {\n",
       "        vertical-align: top;\n",
       "    }\n",
       "\n",
       "    .dataframe thead th {\n",
       "        text-align: right;\n",
       "    }\n",
       "</style>\n",
       "<table border=\"1\" class=\"dataframe\">\n",
       "  <thead>\n",
       "    <tr style=\"text-align: right;\">\n",
       "      <th></th>\n",
       "      <th>cin</th>\n",
       "      <th>cluster_id</th>\n",
       "      <th>cout</th>\n",
       "      <th>depthwise</th>\n",
       "      <th>ifm</th>\n",
       "      <th>kernel</th>\n",
       "      <th>module_scope</th>\n",
       "      <th>node_id</th>\n",
       "      <th>node_name</th>\n",
       "      <th>ofm</th>\n",
       "      <th>param</th>\n",
       "      <th>stride</th>\n",
       "    </tr>\n",
       "  </thead>\n",
       "  <tbody>\n",
       "    <tr>\n",
       "      <th>0</th>\n",
       "      <td>3</td>\n",
       "      <td>0</td>\n",
       "      <td>64</td>\n",
       "      <td>0</td>\n",
       "      <td>50176</td>\n",
       "      <td>7</td>\n",
       "      <td>ResNet/NNCFConv2d[conv1]</td>\n",
       "      <td>1</td>\n",
       "      <td>1 ResNet/NNCFConv2d[conv1]/conv2d</td>\n",
       "      <td>12544</td>\n",
       "      <td>9408</td>\n",
       "      <td>2</td>\n",
       "    </tr>\n",
       "    <tr>\n",
       "      <th>1</th>\n",
       "      <td>64</td>\n",
       "      <td>0</td>\n",
       "      <td>64</td>\n",
       "      <td>0</td>\n",
       "      <td>3136</td>\n",
       "      <td>3</td>\n",
       "      <td>ResNet/Sequential[layer1]/BasicBlock[0]/NNCFCo...</td>\n",
       "      <td>8</td>\n",
       "      <td>8 ResNet/Sequential[layer1]/BasicBlock[0]/NNCF...</td>\n",
       "      <td>3136</td>\n",
       "      <td>36864</td>\n",
       "      <td>1</td>\n",
       "    </tr>\n",
       "    <tr>\n",
       "      <th>2</th>\n",
       "      <td>64</td>\n",
       "      <td>0</td>\n",
       "      <td>64</td>\n",
       "      <td>0</td>\n",
       "      <td>3136</td>\n",
       "      <td>3</td>\n",
       "      <td>ResNet/Sequential[layer1]/BasicBlock[1]/NNCFCo...</td>\n",
       "      <td>15</td>\n",
       "      <td>15 ResNet/Sequential[layer1]/BasicBlock[1]/NNC...</td>\n",
       "      <td>3136</td>\n",
       "      <td>36864</td>\n",
       "      <td>1</td>\n",
       "    </tr>\n",
       "    <tr>\n",
       "      <th>3</th>\n",
       "      <td>128</td>\n",
       "      <td>1</td>\n",
       "      <td>128</td>\n",
       "      <td>0</td>\n",
       "      <td>784</td>\n",
       "      <td>3</td>\n",
       "      <td>ResNet/Sequential[layer2]/BasicBlock[0]/NNCFCo...</td>\n",
       "      <td>22</td>\n",
       "      <td>22 ResNet/Sequential[layer2]/BasicBlock[0]/NNC...</td>\n",
       "      <td>784</td>\n",
       "      <td>147456</td>\n",
       "      <td>1</td>\n",
       "    </tr>\n",
       "    <tr>\n",
       "      <th>4</th>\n",
       "      <td>64</td>\n",
       "      <td>1</td>\n",
       "      <td>128</td>\n",
       "      <td>0</td>\n",
       "      <td>3136</td>\n",
       "      <td>1</td>\n",
       "      <td>ResNet/Sequential[layer2]/BasicBlock[0]/Sequen...</td>\n",
       "      <td>24</td>\n",
       "      <td>24 ResNet/Sequential[layer2]/BasicBlock[0]/Seq...</td>\n",
       "      <td>784</td>\n",
       "      <td>8192</td>\n",
       "      <td>2</td>\n",
       "    </tr>\n",
       "  </tbody>\n",
       "</table>\n",
       "</div>"
      ],
      "text/plain": [
       "   cin  cluster_id  cout  depthwise    ifm  kernel  \\\n",
       "0    3           0    64          0  50176       7   \n",
       "1   64           0    64          0   3136       3   \n",
       "2   64           0    64          0   3136       3   \n",
       "3  128           1   128          0    784       3   \n",
       "4   64           1   128          0   3136       1   \n",
       "\n",
       "                                        module_scope  node_id  \\\n",
       "0                           ResNet/NNCFConv2d[conv1]        1   \n",
       "1  ResNet/Sequential[layer1]/BasicBlock[0]/NNCFCo...        8   \n",
       "2  ResNet/Sequential[layer1]/BasicBlock[1]/NNCFCo...       15   \n",
       "3  ResNet/Sequential[layer2]/BasicBlock[0]/NNCFCo...       22   \n",
       "4  ResNet/Sequential[layer2]/BasicBlock[0]/Sequen...       24   \n",
       "\n",
       "                                           node_name    ofm   param  stride  \n",
       "0                  1 ResNet/NNCFConv2d[conv1]/conv2d  12544    9408       2  \n",
       "1  8 ResNet/Sequential[layer1]/BasicBlock[0]/NNCF...   3136   36864       1  \n",
       "2  15 ResNet/Sequential[layer1]/BasicBlock[1]/NNC...   3136   36864       1  \n",
       "3  22 ResNet/Sequential[layer2]/BasicBlock[0]/NNC...    784  147456       1  \n",
       "4  24 ResNet/Sequential[layer2]/BasicBlock[0]/Seq...    784    8192       2  "
      ]
     },
     "execution_count": 13,
     "metadata": {},
     "output_type": "execute_result"
    }
   ],
   "source": [
    "prunable_df.head()"
   ]
  },
  {
   "cell_type": "markdown",
   "metadata": {},
   "source": [
    "Nodes grouped as a cluster can be found in this table by cluster id. ```node_name``` can be used to looked up optype and connectivity map."
   ]
  },
  {
   "cell_type": "markdown",
   "metadata": {},
   "source": [
    "#### Sample evaluation configuration"
   ]
  },
  {
   "cell_type": "code",
   "execution_count": 14,
   "metadata": {},
   "outputs": [
    {
     "data": {
      "text/plain": [
       "{'0': 0.0,\n",
       " '1': 0.0,\n",
       " '2': 0.0,\n",
       " '3': 0.0,\n",
       " '4': 0.0,\n",
       " '5': 0.0,\n",
       " '6': 0.0,\n",
       " '7': 0.0,\n",
       " '8': 0.0,\n",
       " '9': 0.0,\n",
       " '10': 0.0}"
      ]
     },
     "execution_count": 14,
     "metadata": {},
     "output_type": "execute_result"
    }
   ],
   "source": [
    "eval_cfg = requests.get(url=url_eval_req).json()\n",
    "# key is cluster id\n",
    "# value is the pruning rate of a cluster\n",
    "# replace value between 0 - 1\n",
    "eval_cfg"
   ]
  },
  {
   "cell_type": "markdown",
   "metadata": {},
   "source": [
    "#### Evaluation with random groupwise pruning "
   ]
  },
  {
   "cell_type": "code",
   "execution_count": 15,
   "metadata": {},
   "outputs": [],
   "source": [
    "eval_cfg = {k: np.random.random() for k, v in eval_cfg.items()}"
   ]
  },
  {
   "cell_type": "code",
   "execution_count": 16,
   "metadata": {},
   "outputs": [
    {
     "data": {
      "text/plain": [
       "{'0': 0.8030485939294989,\n",
       " '1': 0.9090446128118574,\n",
       " '2': 0.989429425865953,\n",
       " '3': 0.2754564581562161,\n",
       " '4': 0.9789605423477792,\n",
       " '5': 0.7355104714027888,\n",
       " '6': 0.27081500924557356,\n",
       " '7': 0.3459117891637765,\n",
       " '8': 0.9039298092010687,\n",
       " '9': 0.2943764295531103,\n",
       " '10': 0.9145235309528904}"
      ]
     },
     "execution_count": 16,
     "metadata": {},
     "output_type": "execute_result"
    }
   ],
   "source": [
    "eval_cfg"
   ]
  },
  {
   "cell_type": "code",
   "execution_count": 17,
   "metadata": {},
   "outputs": [],
   "source": [
    "req = requests.post(url_evaluate, json = eval_cfg)"
   ]
  },
  {
   "cell_type": "code",
   "execution_count": 18,
   "metadata": {},
   "outputs": [],
   "source": [
    "eval_results = req.json()"
   ]
  },
  {
   "cell_type": "code",
   "execution_count": 19,
   "metadata": {},
   "outputs": [
    {
     "data": {
      "text/plain": [
       "{'effective_pruning_rate': 0.7469201779002502,\n",
       " 'flop_ratio': 0.12447595503613772,\n",
       " 'groupwise_pruning_rate': {'0': 0.75,\n",
       "  '1': 0.875,\n",
       "  '2': 0.96875,\n",
       "  '3': 0.25,\n",
       "  '4': 0.875,\n",
       "  '5': 0.6875,\n",
       "  '6': 0.25,\n",
       "  '7': 0.34375,\n",
       "  '8': 0.875,\n",
       "  '9': 0.28125,\n",
       "  '10': 0.90625},\n",
       " 'layerwise_stats': {'ResNet/NNCFConv2d[conv1]': {'b_shape': [],\n",
       "   'mask_pr': 0.75,\n",
       "   'params_count': 9408,\n",
       "   'w_shape': [64, 3, 7, 7]},\n",
       "  'ResNet/Sequential[layer1]/BasicBlock[0]/NNCFConv2d[conv1]': {'b_shape': [],\n",
       "   'mask_pr': 0.25,\n",
       "   'params_count': 36864,\n",
       "   'w_shape': [64, 64, 3, 3]},\n",
       "  'ResNet/Sequential[layer1]/BasicBlock[0]/NNCFConv2d[conv2]': {'b_shape': [],\n",
       "   'mask_pr': 0.75,\n",
       "   'params_count': 36864,\n",
       "   'w_shape': [64, 64, 3, 3]},\n",
       "  'ResNet/Sequential[layer1]/BasicBlock[1]/NNCFConv2d[conv1]': {'b_shape': [],\n",
       "   'mask_pr': 0.875,\n",
       "   'params_count': 36864,\n",
       "   'w_shape': [64, 64, 3, 3]},\n",
       "  'ResNet/Sequential[layer1]/BasicBlock[1]/NNCFConv2d[conv2]': {'b_shape': [],\n",
       "   'mask_pr': 0.75,\n",
       "   'params_count': 36864,\n",
       "   'w_shape': [64, 64, 3, 3]},\n",
       "  'ResNet/Sequential[layer2]/BasicBlock[0]/NNCFConv2d[conv1]': {'b_shape': [],\n",
       "   'mask_pr': 0.6875,\n",
       "   'params_count': 73728,\n",
       "   'w_shape': [128, 64, 3, 3]},\n",
       "  'ResNet/Sequential[layer2]/BasicBlock[0]/NNCFConv2d[conv2]': {'b_shape': [],\n",
       "   'mask_pr': 0.875,\n",
       "   'params_count': 147456,\n",
       "   'w_shape': [128, 128, 3, 3]},\n",
       "  'ResNet/Sequential[layer2]/BasicBlock[0]/Sequential[downsample]/NNCFConv2d[0]': {'b_shape': [],\n",
       "   'mask_pr': 0.875,\n",
       "   'params_count': 8192,\n",
       "   'w_shape': [128, 64, 1, 1]},\n",
       "  'ResNet/Sequential[layer2]/BasicBlock[1]/NNCFConv2d[conv1]': {'b_shape': [],\n",
       "   'mask_pr': 0.25,\n",
       "   'params_count': 147456,\n",
       "   'w_shape': [128, 128, 3, 3]},\n",
       "  'ResNet/Sequential[layer2]/BasicBlock[1]/NNCFConv2d[conv2]': {'b_shape': [],\n",
       "   'mask_pr': 0.875,\n",
       "   'params_count': 147456,\n",
       "   'w_shape': [128, 128, 3, 3]},\n",
       "  'ResNet/Sequential[layer3]/BasicBlock[0]/NNCFConv2d[conv1]': {'b_shape': [],\n",
       "   'mask_pr': 0.34375,\n",
       "   'params_count': 294912,\n",
       "   'w_shape': [256, 128, 3, 3]},\n",
       "  'ResNet/Sequential[layer3]/BasicBlock[0]/NNCFConv2d[conv2]': {'b_shape': [],\n",
       "   'mask_pr': 0.96875,\n",
       "   'params_count': 589824,\n",
       "   'w_shape': [256, 256, 3, 3]},\n",
       "  'ResNet/Sequential[layer3]/BasicBlock[0]/Sequential[downsample]/NNCFConv2d[0]': {'b_shape': [],\n",
       "   'mask_pr': 0.96875,\n",
       "   'params_count': 32768,\n",
       "   'w_shape': [256, 128, 1, 1]},\n",
       "  'ResNet/Sequential[layer3]/BasicBlock[1]/NNCFConv2d[conv1]': {'b_shape': [],\n",
       "   'mask_pr': 0.875,\n",
       "   'params_count': 589824,\n",
       "   'w_shape': [256, 256, 3, 3]},\n",
       "  'ResNet/Sequential[layer3]/BasicBlock[1]/NNCFConv2d[conv2]': {'b_shape': [],\n",
       "   'mask_pr': 0.96875,\n",
       "   'params_count': 589824,\n",
       "   'w_shape': [256, 256, 3, 3]},\n",
       "  'ResNet/Sequential[layer4]/BasicBlock[0]/NNCFConv2d[conv1]': {'b_shape': [],\n",
       "   'mask_pr': 0.28125,\n",
       "   'params_count': 1179648,\n",
       "   'w_shape': [512, 256, 3, 3]},\n",
       "  'ResNet/Sequential[layer4]/BasicBlock[1]/NNCFConv2d[conv1]': {'b_shape': [],\n",
       "   'mask_pr': 0.90625,\n",
       "   'params_count': 2359296,\n",
       "   'w_shape': [512, 512, 3, 3]}},\n",
       " 'msg': 'Prune and inference completed',\n",
       " 'original_flops': 3628146688,\n",
       " 'processing_time': '10.015450954437256',\n",
       " 'rc': 0,\n",
       " 'remaining_flops': 451617024,\n",
       " 'size_ratio': 0.2530798220997498,\n",
       " 'task_metric': {'top1': 0.13020833333333334, 'top5': 0.4340277777777778}}"
      ]
     },
     "execution_count": 19,
     "metadata": {},
     "output_type": "execute_result"
    }
   ],
   "source": [
    "eval_results"
   ]
  }
 ],
 "metadata": {
  "kernelspec": {
   "display_name": "Python 3",
   "language": "python",
   "name": "python3"
  },
  "language_info": {
   "codemirror_mode": {
    "name": "ipython",
    "version": 3
   },
   "file_extension": ".py",
   "mimetype": "text/x-python",
   "name": "python",
   "nbconvert_exporter": "python",
   "pygments_lexer": "ipython3",
   "version": "3.6.9"
  }
 },
 "nbformat": 4,
 "nbformat_minor": 4
}
