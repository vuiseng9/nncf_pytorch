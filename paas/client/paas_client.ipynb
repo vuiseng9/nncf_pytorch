{
 "cells": [
  {
   "cell_type": "markdown",
   "metadata": {},
   "source": [
    "# Sample client usage of Filter Pruning Service"
   ]
  },
  {
   "cell_type": "markdown",
   "metadata": {},
   "source": [
    "#### sample to set up service server\n",
    "see https://github.com/vuiseng9/nncf/blob/paas/paas/host_paas_image_classification.sh\n",
    "    "
   ]
  },
  {
   "cell_type": "code",
   "execution_count": 50,
   "metadata": {},
   "outputs": [],
   "source": [
    "import os, time, random, torch, sys, requests, json\n",
    "import numpy as np, pandas as pd\n",
    "from copy import deepcopy\n",
    "from matplotlib import pyplot as plt\n",
    "%matplotlib inline"
   ]
  },
  {
   "cell_type": "code",
   "execution_count": 51,
   "metadata": {},
   "outputs": [],
   "source": [
    "host_url = 'http://csr-dgx1-03.jf.intel.com:5002/'"
   ]
  },
  {
   "cell_type": "code",
   "execution_count": 102,
   "metadata": {},
   "outputs": [],
   "source": [
    "url_ready = host_url + 'ready_state'\n",
    "url_graphviz = host_url + 'get_model_graph_viz'\n",
    "url_optype = host_url + 'get_node2optype_map'\n",
    "url_connectivity = host_url + 'get_connectivity_map'\n",
    "url_prunable = host_url + 'get_prunable_attr'\n",
    "url_graph_features = host_url + 'layer_graph_data'\n",
    "url_eval_req = host_url + 'sample_eval_req'\n",
    "url_evaluate = host_url + 'evaluate'"
   ]
  },
  {
   "cell_type": "markdown",
   "metadata": {},
   "source": [
    "#### Check if service is ready"
   ]
  },
  {
   "cell_type": "code",
   "execution_count": 53,
   "metadata": {},
   "outputs": [
    {
     "data": {
      "text/plain": [
       "{'config': '/home/vchua/ote-fd/nncf/paas/cfg/vgg11_filter_paas.json',\n",
       " 'method': 'ready_state',\n",
       " 'msg': 'Environment imgnet initialized',\n",
       " 'rc': 0}"
      ]
     },
     "execution_count": 53,
     "metadata": {},
     "output_type": "execute_result"
    }
   ],
   "source": [
    "requests.get(url=url_ready).json()"
   ]
  },
  {
   "cell_type": "markdown",
   "metadata": {},
   "source": [
    "#### Graph visualization"
   ]
  },
  {
   "cell_type": "code",
   "execution_count": 54,
   "metadata": {},
   "outputs": [
    {
     "name": "stdout",
     "output_type": "stream",
     "text": [
      "Note: you can download through browser with this url http://csr-dgx1-03.jf.intel.com:5002/get_model_graph_viz\n"
     ]
    },
    {
     "data": {
      "text/plain": [
       "<matplotlib.image.AxesImage at 0x7f717cc53f28>"
      ]
     },
     "execution_count": 54,
     "metadata": {},
     "output_type": "execute_result"
    },
    {
     "data": {
      "image/png": "[encoded data removed]",
      "text/plain": [
       "<Figure size 432x288 with 1 Axes>"
      ]
     },
     "metadata": {
      "needs_background": "light"
     },
     "output_type": "display_data"
    }
   ],
   "source": [
    "# download a copy of model graph with colorized prunable nodes\n",
    "print('Note: you can download through browser with this url {}'.format(url_graphviz))\n",
    "\n",
    "imgpth = 'model_graph.png'\n",
    "r = requests.get(url_graphviz, allow_redirects=True)\n",
    "with open(imgpth, 'wb') as fh:\n",
    "    fh.write(r.content)\n",
    "\n",
    "plt.imshow(plt.imread(imgpth))"
   ]
  },
  {
   "cell_type": "markdown",
   "metadata": {},
   "source": [
    "### Graph node to operation type"
   ]
  },
  {
   "cell_type": "code",
   "execution_count": 55,
   "metadata": {},
   "outputs": [
    {
     "data": {
      "text/plain": [
       "{'0 /nncf_model_input': 'nncf_model_input',\n",
       " '1 VGG/Sequential[features]/NNCFConv2d[0]/conv2d': 'conv2d',\n",
       " '10 VGG/Sequential[features]/ReLU[9]/RELU': 'RELU',\n",
       " '11 VGG/Sequential[features]/MaxPool2d[10]/max_pool2d': 'max_pool2d',\n",
       " '12 VGG/Sequential[features]/NNCFConv2d[11]/conv2d': 'conv2d',\n",
       " '13 VGG/Sequential[features]/ReLU[12]/RELU': 'RELU',\n",
       " '14 VGG/Sequential[features]/NNCFConv2d[13]/conv2d': 'conv2d',\n",
       " '15 VGG/Sequential[features]/ReLU[14]/RELU': 'RELU',\n",
       " '16 VGG/Sequential[features]/MaxPool2d[15]/max_pool2d': 'max_pool2d',\n",
       " '17 VGG/Sequential[features]/NNCFConv2d[16]/conv2d': 'conv2d',\n",
       " '18 VGG/Sequential[features]/ReLU[17]/RELU': 'RELU',\n",
       " '19 VGG/Sequential[features]/NNCFConv2d[18]/conv2d': 'conv2d',\n",
       " '2 VGG/Sequential[features]/ReLU[1]/RELU': 'RELU',\n",
       " '20 VGG/Sequential[features]/ReLU[19]/RELU': 'RELU',\n",
       " '21 VGG/Sequential[features]/MaxPool2d[20]/max_pool2d': 'max_pool2d',\n",
       " '22 VGG/AdaptiveAvgPool2d[avgpool]/adaptive_avg_pool2d': 'adaptive_avg_pool2d',\n",
       " '23 VGG/flatten': 'flatten',\n",
       " '24 VGG/Sequential[classifier]/NNCFLinear[0]/linear': 'linear',\n",
       " '25 VGG/Sequential[classifier]/ReLU[1]/RELU': 'RELU',\n",
       " '26 VGG/Sequential[classifier]/Dropout[2]/dropout': 'dropout',\n",
       " '27 VGG/Sequential[classifier]/NNCFLinear[3]/linear': 'linear',\n",
       " '28 VGG/Sequential[classifier]/ReLU[4]/RELU': 'RELU',\n",
       " '29 VGG/Sequential[classifier]/Dropout[5]/dropout': 'dropout',\n",
       " '3 VGG/Sequential[features]/MaxPool2d[2]/max_pool2d': 'max_pool2d',\n",
       " '30 VGG/Sequential[classifier]/NNCFLinear[6]/linear': 'linear',\n",
       " '31 /nncf_model_output': 'nncf_model_output',\n",
       " '4 VGG/Sequential[features]/NNCFConv2d[3]/conv2d': 'conv2d',\n",
       " '5 VGG/Sequential[features]/ReLU[4]/RELU': 'RELU',\n",
       " '6 VGG/Sequential[features]/MaxPool2d[5]/max_pool2d': 'max_pool2d',\n",
       " '7 VGG/Sequential[features]/NNCFConv2d[6]/conv2d': 'conv2d',\n",
       " '8 VGG/Sequential[features]/ReLU[7]/RELU': 'RELU',\n",
       " '9 VGG/Sequential[features]/NNCFConv2d[8]/conv2d': 'conv2d'}"
      ]
     },
     "execution_count": 55,
     "metadata": {},
     "output_type": "execute_result"
    }
   ],
   "source": [
    "node_type=requests.get(url=url_optype).json()\n",
    "node_type"
   ]
  },
  {
   "cell_type": "markdown",
   "metadata": {},
   "source": [
    "### Connectivity of nodes"
   ]
  },
  {
   "cell_type": "code",
   "execution_count": 56,
   "metadata": {},
   "outputs": [
    {
     "name": "stdout",
     "output_type": "stream",
     "text": [
      "* (nncf_model_input) 0 /nncf_model_input\n",
      "\t-> (conv2d) 1 VGG/Sequential[features]/NNCFConv2d[0]/conv2d\n",
      "\n",
      "* (conv2d) 1 VGG/Sequential[features]/NNCFConv2d[0]/conv2d\n",
      "\t-> (RELU) 2 VGG/Sequential[features]/ReLU[1]/RELU\n",
      "\n",
      "* (RELU) 10 VGG/Sequential[features]/ReLU[9]/RELU\n",
      "\t-> (max_pool2d) 11 VGG/Sequential[features]/MaxPool2d[10]/max_pool2d\n",
      "\n",
      "* (max_pool2d) 11 VGG/Sequential[features]/MaxPool2d[10]/max_pool2d\n",
      "\t-> (conv2d) 12 VGG/Sequential[features]/NNCFConv2d[11]/conv2d\n",
      "\n",
      "* (conv2d) 12 VGG/Sequential[features]/NNCFConv2d[11]/conv2d\n",
      "\t-> (RELU) 13 VGG/Sequential[features]/ReLU[12]/RELU\n",
      "\n",
      "* (RELU) 13 VGG/Sequential[features]/ReLU[12]/RELU\n",
      "\t-> (conv2d) 14 VGG/Sequential[features]/NNCFConv2d[13]/conv2d\n",
      "\n"
     ]
    }
   ],
   "source": [
    "node_conn = requests.get(url=url_connectivity).json()\n",
    "# key of the dictionary is source node\n",
    "# value is a list of destination nodes\n",
    "\n",
    "# nodetype can be looked up via previous mapping\n",
    "\n",
    "for i, (src_node, dst_nodes) in enumerate(node_conn.items()):\n",
    "    print(\"* ({}) {}\".format(node_type[src_node], src_node))\n",
    "    for dst_node in dst_nodes:\n",
    "        print(\"\\t-> ({}) {}\".format(node_type[dst_node], dst_node))\n",
    "    print(\"\")\n",
    "    if i>=5:\n",
    "        break"
   ]
  },
  {
   "cell_type": "markdown",
   "metadata": {},
   "source": [
    "### Features of prunable nodes"
   ]
  },
  {
   "cell_type": "code",
   "execution_count": 57,
   "metadata": {},
   "outputs": [],
   "source": [
    "prunable_attr = requests.get(url=url_prunable).json()"
   ]
  },
  {
   "cell_type": "code",
   "execution_count": 58,
   "metadata": {},
   "outputs": [],
   "source": [
    "prunable_df = pd.DataFrame.from_dict(prunable_attr)"
   ]
  },
  {
   "cell_type": "code",
   "execution_count": 59,
   "metadata": {},
   "outputs": [
    {
     "data": {
      "text/html": [
       "<div>\n",
       "<style scoped>\n",
       "    .dataframe tbody tr th:only-of-type {\n",
       "        vertical-align: middle;\n",
       "    }\n",
       "\n",
       "    .dataframe tbody tr th {\n",
       "        vertical-align: top;\n",
       "    }\n",
       "\n",
       "    .dataframe thead th {\n",
       "        text-align: right;\n",
       "    }\n",
       "</style>\n",
       "<table border=\"1\" class=\"dataframe\">\n",
       "  <thead>\n",
       "    <tr style=\"text-align: right;\">\n",
       "      <th></th>\n",
       "      <th>cin</th>\n",
       "      <th>cluster_id</th>\n",
       "      <th>cout</th>\n",
       "      <th>depthwise</th>\n",
       "      <th>ifm</th>\n",
       "      <th>kernel</th>\n",
       "      <th>module_scope</th>\n",
       "      <th>node_id</th>\n",
       "      <th>node_name</th>\n",
       "      <th>ofm</th>\n",
       "      <th>param</th>\n",
       "      <th>stride</th>\n",
       "    </tr>\n",
       "  </thead>\n",
       "  <tbody>\n",
       "    <tr>\n",
       "      <th>0</th>\n",
       "      <td>3</td>\n",
       "      <td>0</td>\n",
       "      <td>64</td>\n",
       "      <td>0</td>\n",
       "      <td>50176</td>\n",
       "      <td>3</td>\n",
       "      <td>VGG/Sequential[features]/NNCFConv2d[0]</td>\n",
       "      <td>1</td>\n",
       "      <td>1 VGG/Sequential[features]/NNCFConv2d[0]/conv2d</td>\n",
       "      <td>50176</td>\n",
       "      <td>1728</td>\n",
       "      <td>1</td>\n",
       "    </tr>\n",
       "    <tr>\n",
       "      <th>1</th>\n",
       "      <td>64</td>\n",
       "      <td>1</td>\n",
       "      <td>128</td>\n",
       "      <td>0</td>\n",
       "      <td>12544</td>\n",
       "      <td>3</td>\n",
       "      <td>VGG/Sequential[features]/NNCFConv2d[3]</td>\n",
       "      <td>4</td>\n",
       "      <td>4 VGG/Sequential[features]/NNCFConv2d[3]/conv2d</td>\n",
       "      <td>12544</td>\n",
       "      <td>73728</td>\n",
       "      <td>1</td>\n",
       "    </tr>\n",
       "    <tr>\n",
       "      <th>2</th>\n",
       "      <td>128</td>\n",
       "      <td>2</td>\n",
       "      <td>256</td>\n",
       "      <td>0</td>\n",
       "      <td>3136</td>\n",
       "      <td>3</td>\n",
       "      <td>VGG/Sequential[features]/NNCFConv2d[6]</td>\n",
       "      <td>7</td>\n",
       "      <td>7 VGG/Sequential[features]/NNCFConv2d[6]/conv2d</td>\n",
       "      <td>3136</td>\n",
       "      <td>294912</td>\n",
       "      <td>1</td>\n",
       "    </tr>\n",
       "    <tr>\n",
       "      <th>3</th>\n",
       "      <td>256</td>\n",
       "      <td>3</td>\n",
       "      <td>256</td>\n",
       "      <td>0</td>\n",
       "      <td>3136</td>\n",
       "      <td>3</td>\n",
       "      <td>VGG/Sequential[features]/NNCFConv2d[8]</td>\n",
       "      <td>9</td>\n",
       "      <td>9 VGG/Sequential[features]/NNCFConv2d[8]/conv2d</td>\n",
       "      <td>3136</td>\n",
       "      <td>589824</td>\n",
       "      <td>1</td>\n",
       "    </tr>\n",
       "    <tr>\n",
       "      <th>4</th>\n",
       "      <td>256</td>\n",
       "      <td>4</td>\n",
       "      <td>512</td>\n",
       "      <td>0</td>\n",
       "      <td>784</td>\n",
       "      <td>3</td>\n",
       "      <td>VGG/Sequential[features]/NNCFConv2d[11]</td>\n",
       "      <td>12</td>\n",
       "      <td>12 VGG/Sequential[features]/NNCFConv2d[11]/conv2d</td>\n",
       "      <td>784</td>\n",
       "      <td>1179648</td>\n",
       "      <td>1</td>\n",
       "    </tr>\n",
       "  </tbody>\n",
       "</table>\n",
       "</div>"
      ],
      "text/plain": [
       "   cin  cluster_id  cout  depthwise    ifm  kernel  \\\n",
       "0    3           0    64          0  50176       3   \n",
       "1   64           1   128          0  12544       3   \n",
       "2  128           2   256          0   3136       3   \n",
       "3  256           3   256          0   3136       3   \n",
       "4  256           4   512          0    784       3   \n",
       "\n",
       "                              module_scope  node_id  \\\n",
       "0   VGG/Sequential[features]/NNCFConv2d[0]        1   \n",
       "1   VGG/Sequential[features]/NNCFConv2d[3]        4   \n",
       "2   VGG/Sequential[features]/NNCFConv2d[6]        7   \n",
       "3   VGG/Sequential[features]/NNCFConv2d[8]        9   \n",
       "4  VGG/Sequential[features]/NNCFConv2d[11]       12   \n",
       "\n",
       "                                           node_name    ofm    param  stride  \n",
       "0    1 VGG/Sequential[features]/NNCFConv2d[0]/conv2d  50176     1728       1  \n",
       "1    4 VGG/Sequential[features]/NNCFConv2d[3]/conv2d  12544    73728       1  \n",
       "2    7 VGG/Sequential[features]/NNCFConv2d[6]/conv2d   3136   294912       1  \n",
       "3    9 VGG/Sequential[features]/NNCFConv2d[8]/conv2d   3136   589824       1  \n",
       "4  12 VGG/Sequential[features]/NNCFConv2d[11]/conv2d    784  1179648       1  "
      ]
     },
     "execution_count": 59,
     "metadata": {},
     "output_type": "execute_result"
    }
   ],
   "source": [
    "prunable_df.head()"
   ]
  },
  {
   "cell_type": "markdown",
   "metadata": {},
   "source": [
    "Nodes grouped as a cluster can be found in this table by cluster id. ```node_name``` can be used to looked up optype and connectivity map."
   ]
  },
  {
   "cell_type": "code",
   "execution_count": 60,
   "metadata": {},
   "outputs": [],
   "source": [
    "node2cluster_id = prunable_df[['node_name', 'cluster_id']].set_index('node_name').to_dict()"
   ]
  },
  {
   "cell_type": "code",
   "execution_count": 61,
   "metadata": {},
   "outputs": [
    {
     "data": {
      "text/plain": [
       "{'1 VGG/Sequential[features]/NNCFConv2d[0]/conv2d': 0,\n",
       " '4 VGG/Sequential[features]/NNCFConv2d[3]/conv2d': 1,\n",
       " '7 VGG/Sequential[features]/NNCFConv2d[6]/conv2d': 2,\n",
       " '9 VGG/Sequential[features]/NNCFConv2d[8]/conv2d': 3,\n",
       " '12 VGG/Sequential[features]/NNCFConv2d[11]/conv2d': 4,\n",
       " '14 VGG/Sequential[features]/NNCFConv2d[13]/conv2d': 5,\n",
       " '17 VGG/Sequential[features]/NNCFConv2d[16]/conv2d': 6}"
      ]
     },
     "execution_count": 61,
     "metadata": {},
     "output_type": "execute_result"
    }
   ],
   "source": [
    "node2cluster_id['cluster_id']"
   ]
  },
  {
   "cell_type": "markdown",
   "metadata": {},
   "source": [
    "### Features per node"
   ]
  },
  {
   "cell_type": "code",
   "execution_count": 62,
   "metadata": {},
   "outputs": [],
   "source": [
    "from sklearn.preprocessing import OneHotEncoder\n",
    "\n",
    "from natsort import natsorted"
   ]
  },
  {
   "cell_type": "code",
   "execution_count": 63,
   "metadata": {},
   "outputs": [],
   "source": [
    "optype_encoder = OneHotEncoder()\n",
    "cluster_id_encoder = OneHotEncoder()"
   ]
  },
  {
   "cell_type": "code",
   "execution_count": 64,
   "metadata": {},
   "outputs": [],
   "source": [
    "one_hot_encoded_cluster_id = cluster_id_encoder.fit_transform(np.array(list(node2cluster_id['cluster_id'].values())).reshape(-1,1)).toarray()\n",
    "one_hot_encoded_cluster_id_map = dict(zip(node2cluster_id['cluster_id'].keys(), one_hot_encoded_cluster_id))\n",
    "cluster_id_df = pd.Series(data=one_hot_encoded_cluster_id_map.values(), index=one_hot_encoded_cluster_id_map.keys(), name=\"cluster_id\").to_frame()"
   ]
  },
  {
   "cell_type": "code",
   "execution_count": 65,
   "metadata": {},
   "outputs": [
    {
     "data": {
      "text/plain": [
       "[array([0, 1, 2, 3, 4, 5, 6])]"
      ]
     },
     "execution_count": 65,
     "metadata": {},
     "output_type": "execute_result"
    }
   ],
   "source": [
    "cluster_id_encoder.categories_"
   ]
  },
  {
   "cell_type": "code",
   "execution_count": 66,
   "metadata": {},
   "outputs": [
    {
     "data": {
      "text/html": [
       "<div>\n",
       "<style scoped>\n",
       "    .dataframe tbody tr th:only-of-type {\n",
       "        vertical-align: middle;\n",
       "    }\n",
       "\n",
       "    .dataframe tbody tr th {\n",
       "        vertical-align: top;\n",
       "    }\n",
       "\n",
       "    .dataframe thead th {\n",
       "        text-align: right;\n",
       "    }\n",
       "</style>\n",
       "<table border=\"1\" class=\"dataframe\">\n",
       "  <thead>\n",
       "    <tr style=\"text-align: right;\">\n",
       "      <th></th>\n",
       "      <th>cluster_id</th>\n",
       "    </tr>\n",
       "  </thead>\n",
       "  <tbody>\n",
       "    <tr>\n",
       "      <th>1 VGG/Sequential[features]/NNCFConv2d[0]/conv2d</th>\n",
       "      <td>[1.0, 0.0, 0.0, 0.0, 0.0, 0.0, 0.0]</td>\n",
       "    </tr>\n",
       "    <tr>\n",
       "      <th>4 VGG/Sequential[features]/NNCFConv2d[3]/conv2d</th>\n",
       "      <td>[0.0, 1.0, 0.0, 0.0, 0.0, 0.0, 0.0]</td>\n",
       "    </tr>\n",
       "    <tr>\n",
       "      <th>7 VGG/Sequential[features]/NNCFConv2d[6]/conv2d</th>\n",
       "      <td>[0.0, 0.0, 1.0, 0.0, 0.0, 0.0, 0.0]</td>\n",
       "    </tr>\n",
       "  </tbody>\n",
       "</table>\n",
       "</div>"
      ],
      "text/plain": [
       "                                                                          cluster_id\n",
       "1 VGG/Sequential[features]/NNCFConv2d[0]/conv2d  [1.0, 0.0, 0.0, 0.0, 0.0, 0.0, 0.0]\n",
       "4 VGG/Sequential[features]/NNCFConv2d[3]/conv2d  [0.0, 1.0, 0.0, 0.0, 0.0, 0.0, 0.0]\n",
       "7 VGG/Sequential[features]/NNCFConv2d[6]/conv2d  [0.0, 0.0, 1.0, 0.0, 0.0, 0.0, 0.0]"
      ]
     },
     "execution_count": 66,
     "metadata": {},
     "output_type": "execute_result"
    }
   ],
   "source": [
    "cluster_id_df.head(3)"
   ]
  },
  {
   "cell_type": "code",
   "execution_count": 67,
   "metadata": {},
   "outputs": [],
   "source": [
    "one_hot_encoded_optype = optype_encoder.fit_transform(np.array(list(node_type.values())).reshape(-1,1)).toarray()\n",
    "one_hot_encoded_optype_map = dict(zip(node_type.keys(), one_hot_encoded_optype))\n",
    "optype_df = pd.Series(data=one_hot_encoded_optype_map.values(), index=one_hot_encoded_optype_map.keys(), name=\"optype\").to_frame()\n",
    "optype_df = optype_df.reindex(natsorted(optype_df.index))"
   ]
  },
  {
   "cell_type": "code",
   "execution_count": 68,
   "metadata": {},
   "outputs": [
    {
     "data": {
      "text/plain": [
       "[array(['RELU', 'adaptive_avg_pool2d', 'conv2d', 'dropout', 'flatten',\n",
       "        'linear', 'max_pool2d', 'nncf_model_input', 'nncf_model_output'],\n",
       "       dtype='<U19')]"
      ]
     },
     "execution_count": 68,
     "metadata": {},
     "output_type": "execute_result"
    }
   ],
   "source": [
    "optype_encoder.categories_"
   ]
  },
  {
   "cell_type": "code",
   "execution_count": 69,
   "metadata": {},
   "outputs": [
    {
     "data": {
      "text/html": [
       "<div>\n",
       "<style scoped>\n",
       "    .dataframe tbody tr th:only-of-type {\n",
       "        vertical-align: middle;\n",
       "    }\n",
       "\n",
       "    .dataframe tbody tr th {\n",
       "        vertical-align: top;\n",
       "    }\n",
       "\n",
       "    .dataframe thead th {\n",
       "        text-align: right;\n",
       "    }\n",
       "</style>\n",
       "<table border=\"1\" class=\"dataframe\">\n",
       "  <thead>\n",
       "    <tr style=\"text-align: right;\">\n",
       "      <th></th>\n",
       "      <th>optype</th>\n",
       "    </tr>\n",
       "  </thead>\n",
       "  <tbody>\n",
       "    <tr>\n",
       "      <th>0 /nncf_model_input</th>\n",
       "      <td>[0.0, 0.0, 0.0, 0.0, 0.0, 0.0, 0.0, 1.0, 0.0]</td>\n",
       "    </tr>\n",
       "    <tr>\n",
       "      <th>1 VGG/Sequential[features]/NNCFConv2d[0]/conv2d</th>\n",
       "      <td>[0.0, 0.0, 1.0, 0.0, 0.0, 0.0, 0.0, 0.0, 0.0]</td>\n",
       "    </tr>\n",
       "    <tr>\n",
       "      <th>2 VGG/Sequential[features]/ReLU[1]/RELU</th>\n",
       "      <td>[1.0, 0.0, 0.0, 0.0, 0.0, 0.0, 0.0, 0.0, 0.0]</td>\n",
       "    </tr>\n",
       "  </tbody>\n",
       "</table>\n",
       "</div>"
      ],
      "text/plain": [
       "                                                                                        optype\n",
       "0 /nncf_model_input                              [0.0, 0.0, 0.0, 0.0, 0.0, 0.0, 0.0, 1.0, 0.0]\n",
       "1 VGG/Sequential[features]/NNCFConv2d[0]/conv2d  [0.0, 0.0, 1.0, 0.0, 0.0, 0.0, 0.0, 0.0, 0.0]\n",
       "2 VGG/Sequential[features]/ReLU[1]/RELU          [1.0, 0.0, 0.0, 0.0, 0.0, 0.0, 0.0, 0.0, 0.0]"
      ]
     },
     "execution_count": 69,
     "metadata": {},
     "output_type": "execute_result"
    }
   ],
   "source": [
    "optype_df.head(3)"
   ]
  },
  {
   "cell_type": "code",
   "execution_count": 70,
   "metadata": {},
   "outputs": [],
   "source": [
    "prunable_features = prunable_df.drop(columns=['module_scope', 'cluster_id']).set_index('node_name')"
   ]
  },
  {
   "cell_type": "code",
   "execution_count": 71,
   "metadata": {},
   "outputs": [
    {
     "data": {
      "text/html": [
       "<div>\n",
       "<style scoped>\n",
       "    .dataframe tbody tr th:only-of-type {\n",
       "        vertical-align: middle;\n",
       "    }\n",
       "\n",
       "    .dataframe tbody tr th {\n",
       "        vertical-align: top;\n",
       "    }\n",
       "\n",
       "    .dataframe thead th {\n",
       "        text-align: right;\n",
       "    }\n",
       "</style>\n",
       "<table border=\"1\" class=\"dataframe\">\n",
       "  <thead>\n",
       "    <tr style=\"text-align: right;\">\n",
       "      <th></th>\n",
       "      <th>cin</th>\n",
       "      <th>cout</th>\n",
       "      <th>depthwise</th>\n",
       "      <th>ifm</th>\n",
       "      <th>kernel</th>\n",
       "      <th>node_id</th>\n",
       "      <th>ofm</th>\n",
       "      <th>param</th>\n",
       "      <th>stride</th>\n",
       "    </tr>\n",
       "    <tr>\n",
       "      <th>node_name</th>\n",
       "      <th></th>\n",
       "      <th></th>\n",
       "      <th></th>\n",
       "      <th></th>\n",
       "      <th></th>\n",
       "      <th></th>\n",
       "      <th></th>\n",
       "      <th></th>\n",
       "      <th></th>\n",
       "    </tr>\n",
       "  </thead>\n",
       "  <tbody>\n",
       "    <tr>\n",
       "      <th>1 VGG/Sequential[features]/NNCFConv2d[0]/conv2d</th>\n",
       "      <td>3</td>\n",
       "      <td>64</td>\n",
       "      <td>0</td>\n",
       "      <td>50176</td>\n",
       "      <td>3</td>\n",
       "      <td>1</td>\n",
       "      <td>50176</td>\n",
       "      <td>1728</td>\n",
       "      <td>1</td>\n",
       "    </tr>\n",
       "    <tr>\n",
       "      <th>4 VGG/Sequential[features]/NNCFConv2d[3]/conv2d</th>\n",
       "      <td>64</td>\n",
       "      <td>128</td>\n",
       "      <td>0</td>\n",
       "      <td>12544</td>\n",
       "      <td>3</td>\n",
       "      <td>4</td>\n",
       "      <td>12544</td>\n",
       "      <td>73728</td>\n",
       "      <td>1</td>\n",
       "    </tr>\n",
       "    <tr>\n",
       "      <th>7 VGG/Sequential[features]/NNCFConv2d[6]/conv2d</th>\n",
       "      <td>128</td>\n",
       "      <td>256</td>\n",
       "      <td>0</td>\n",
       "      <td>3136</td>\n",
       "      <td>3</td>\n",
       "      <td>7</td>\n",
       "      <td>3136</td>\n",
       "      <td>294912</td>\n",
       "      <td>1</td>\n",
       "    </tr>\n",
       "  </tbody>\n",
       "</table>\n",
       "</div>"
      ],
      "text/plain": [
       "                                                 cin  cout  depthwise    ifm  \\\n",
       "node_name                                                                      \n",
       "1 VGG/Sequential[features]/NNCFConv2d[0]/conv2d    3    64          0  50176   \n",
       "4 VGG/Sequential[features]/NNCFConv2d[3]/conv2d   64   128          0  12544   \n",
       "7 VGG/Sequential[features]/NNCFConv2d[6]/conv2d  128   256          0   3136   \n",
       "\n",
       "                                                 kernel  node_id    ofm  \\\n",
       "node_name                                                                 \n",
       "1 VGG/Sequential[features]/NNCFConv2d[0]/conv2d       3        1  50176   \n",
       "4 VGG/Sequential[features]/NNCFConv2d[3]/conv2d       3        4  12544   \n",
       "7 VGG/Sequential[features]/NNCFConv2d[6]/conv2d       3        7   3136   \n",
       "\n",
       "                                                  param  stride  \n",
       "node_name                                                        \n",
       "1 VGG/Sequential[features]/NNCFConv2d[0]/conv2d    1728       1  \n",
       "4 VGG/Sequential[features]/NNCFConv2d[3]/conv2d   73728       1  \n",
       "7 VGG/Sequential[features]/NNCFConv2d[6]/conv2d  294912       1  "
      ]
     },
     "execution_count": 71,
     "metadata": {},
     "output_type": "execute_result"
    }
   ],
   "source": [
    "prunable_features.head(3)"
   ]
  },
  {
   "cell_type": "code",
   "execution_count": 72,
   "metadata": {},
   "outputs": [],
   "source": [
    "features_per_node = pd.concat([optype_df, prunable_features], axis=1).fillna(0)"
   ]
  },
  {
   "cell_type": "code",
   "execution_count": 73,
   "metadata": {},
   "outputs": [],
   "source": [
    "features_per_node = pd.concat([features_per_node, cluster_id_df], axis=1)"
   ]
  },
  {
   "cell_type": "code",
   "execution_count": 74,
   "metadata": {},
   "outputs": [
    {
     "data": {
      "text/plain": [
       "array([0., 0., 0., 0., 0., 0., 0.])"
      ]
     },
     "execution_count": 74,
     "metadata": {},
     "output_type": "execute_result"
    }
   ],
   "source": [
    "np.zeros_like(one_hot_encoded_cluster_id[0])"
   ]
  },
  {
   "cell_type": "code",
   "execution_count": 75,
   "metadata": {},
   "outputs": [],
   "source": [
    "features_per_node['cluster_id'] = \\\n",
    "    [np.zeros_like(one_hot_encoded_cluster_id[0]) if isinstance(val, float) else val for val in features_per_node['cluster_id'].to_list()]"
   ]
  },
  {
   "cell_type": "code",
   "execution_count": 76,
   "metadata": {},
   "outputs": [
    {
     "data": {
      "text/html": [
       "<div>\n",
       "<style scoped>\n",
       "    .dataframe tbody tr th:only-of-type {\n",
       "        vertical-align: middle;\n",
       "    }\n",
       "\n",
       "    .dataframe tbody tr th {\n",
       "        vertical-align: top;\n",
       "    }\n",
       "\n",
       "    .dataframe thead th {\n",
       "        text-align: right;\n",
       "    }\n",
       "</style>\n",
       "<table border=\"1\" class=\"dataframe\">\n",
       "  <thead>\n",
       "    <tr style=\"text-align: right;\">\n",
       "      <th></th>\n",
       "      <th>optype</th>\n",
       "      <th>cin</th>\n",
       "      <th>cout</th>\n",
       "      <th>depthwise</th>\n",
       "      <th>ifm</th>\n",
       "      <th>kernel</th>\n",
       "      <th>node_id</th>\n",
       "      <th>ofm</th>\n",
       "      <th>param</th>\n",
       "      <th>stride</th>\n",
       "      <th>cluster_id</th>\n",
       "    </tr>\n",
       "  </thead>\n",
       "  <tbody>\n",
       "    <tr>\n",
       "      <th>0 /nncf_model_input</th>\n",
       "      <td>[0.0, 0.0, 0.0, 0.0, 0.0, 0.0, 0.0, 1.0, 0.0]</td>\n",
       "      <td>0.0</td>\n",
       "      <td>0.0</td>\n",
       "      <td>0.0</td>\n",
       "      <td>0.0</td>\n",
       "      <td>0.0</td>\n",
       "      <td>0.0</td>\n",
       "      <td>0.0</td>\n",
       "      <td>0.0</td>\n",
       "      <td>0.0</td>\n",
       "      <td>[0.0, 0.0, 0.0, 0.0, 0.0, 0.0, 0.0]</td>\n",
       "    </tr>\n",
       "    <tr>\n",
       "      <th>1 VGG/Sequential[features]/NNCFConv2d[0]/conv2d</th>\n",
       "      <td>[0.0, 0.0, 1.0, 0.0, 0.0, 0.0, 0.0, 0.0, 0.0]</td>\n",
       "      <td>3.0</td>\n",
       "      <td>64.0</td>\n",
       "      <td>0.0</td>\n",
       "      <td>50176.0</td>\n",
       "      <td>3.0</td>\n",
       "      <td>1.0</td>\n",
       "      <td>50176.0</td>\n",
       "      <td>1728.0</td>\n",
       "      <td>1.0</td>\n",
       "      <td>[1.0, 0.0, 0.0, 0.0, 0.0, 0.0, 0.0]</td>\n",
       "    </tr>\n",
       "    <tr>\n",
       "      <th>2 VGG/Sequential[features]/ReLU[1]/RELU</th>\n",
       "      <td>[1.0, 0.0, 0.0, 0.0, 0.0, 0.0, 0.0, 0.0, 0.0]</td>\n",
       "      <td>0.0</td>\n",
       "      <td>0.0</td>\n",
       "      <td>0.0</td>\n",
       "      <td>0.0</td>\n",
       "      <td>0.0</td>\n",
       "      <td>0.0</td>\n",
       "      <td>0.0</td>\n",
       "      <td>0.0</td>\n",
       "      <td>0.0</td>\n",
       "      <td>[0.0, 0.0, 0.0, 0.0, 0.0, 0.0, 0.0]</td>\n",
       "    </tr>\n",
       "    <tr>\n",
       "      <th>3 VGG/Sequential[features]/MaxPool2d[2]/max_pool2d</th>\n",
       "      <td>[0.0, 0.0, 0.0, 0.0, 0.0, 0.0, 1.0, 0.0, 0.0]</td>\n",
       "      <td>0.0</td>\n",
       "      <td>0.0</td>\n",
       "      <td>0.0</td>\n",
       "      <td>0.0</td>\n",
       "      <td>0.0</td>\n",
       "      <td>0.0</td>\n",
       "      <td>0.0</td>\n",
       "      <td>0.0</td>\n",
       "      <td>0.0</td>\n",
       "      <td>[0.0, 0.0, 0.0, 0.0, 0.0, 0.0, 0.0]</td>\n",
       "    </tr>\n",
       "    <tr>\n",
       "      <th>4 VGG/Sequential[features]/NNCFConv2d[3]/conv2d</th>\n",
       "      <td>[0.0, 0.0, 1.0, 0.0, 0.0, 0.0, 0.0, 0.0, 0.0]</td>\n",
       "      <td>64.0</td>\n",
       "      <td>128.0</td>\n",
       "      <td>0.0</td>\n",
       "      <td>12544.0</td>\n",
       "      <td>3.0</td>\n",
       "      <td>4.0</td>\n",
       "      <td>12544.0</td>\n",
       "      <td>73728.0</td>\n",
       "      <td>1.0</td>\n",
       "      <td>[0.0, 1.0, 0.0, 0.0, 0.0, 0.0, 0.0]</td>\n",
       "    </tr>\n",
       "    <tr>\n",
       "      <th>5 VGG/Sequential[features]/ReLU[4]/RELU</th>\n",
       "      <td>[1.0, 0.0, 0.0, 0.0, 0.0, 0.0, 0.0, 0.0, 0.0]</td>\n",
       "      <td>0.0</td>\n",
       "      <td>0.0</td>\n",
       "      <td>0.0</td>\n",
       "      <td>0.0</td>\n",
       "      <td>0.0</td>\n",
       "      <td>0.0</td>\n",
       "      <td>0.0</td>\n",
       "      <td>0.0</td>\n",
       "      <td>0.0</td>\n",
       "      <td>[0.0, 0.0, 0.0, 0.0, 0.0, 0.0, 0.0]</td>\n",
       "    </tr>\n",
       "    <tr>\n",
       "      <th>6 VGG/Sequential[features]/MaxPool2d[5]/max_pool2d</th>\n",
       "      <td>[0.0, 0.0, 0.0, 0.0, 0.0, 0.0, 1.0, 0.0, 0.0]</td>\n",
       "      <td>0.0</td>\n",
       "      <td>0.0</td>\n",
       "      <td>0.0</td>\n",
       "      <td>0.0</td>\n",
       "      <td>0.0</td>\n",
       "      <td>0.0</td>\n",
       "      <td>0.0</td>\n",
       "      <td>0.0</td>\n",
       "      <td>0.0</td>\n",
       "      <td>[0.0, 0.0, 0.0, 0.0, 0.0, 0.0, 0.0]</td>\n",
       "    </tr>\n",
       "    <tr>\n",
       "      <th>7 VGG/Sequential[features]/NNCFConv2d[6]/conv2d</th>\n",
       "      <td>[0.0, 0.0, 1.0, 0.0, 0.0, 0.0, 0.0, 0.0, 0.0]</td>\n",
       "      <td>128.0</td>\n",
       "      <td>256.0</td>\n",
       "      <td>0.0</td>\n",
       "      <td>3136.0</td>\n",
       "      <td>3.0</td>\n",
       "      <td>7.0</td>\n",
       "      <td>3136.0</td>\n",
       "      <td>294912.0</td>\n",
       "      <td>1.0</td>\n",
       "      <td>[0.0, 0.0, 1.0, 0.0, 0.0, 0.0, 0.0]</td>\n",
       "    </tr>\n",
       "    <tr>\n",
       "      <th>8 VGG/Sequential[features]/ReLU[7]/RELU</th>\n",
       "      <td>[1.0, 0.0, 0.0, 0.0, 0.0, 0.0, 0.0, 0.0, 0.0]</td>\n",
       "      <td>0.0</td>\n",
       "      <td>0.0</td>\n",
       "      <td>0.0</td>\n",
       "      <td>0.0</td>\n",
       "      <td>0.0</td>\n",
       "      <td>0.0</td>\n",
       "      <td>0.0</td>\n",
       "      <td>0.0</td>\n",
       "      <td>0.0</td>\n",
       "      <td>[0.0, 0.0, 0.0, 0.0, 0.0, 0.0, 0.0]</td>\n",
       "    </tr>\n",
       "    <tr>\n",
       "      <th>9 VGG/Sequential[features]/NNCFConv2d[8]/conv2d</th>\n",
       "      <td>[0.0, 0.0, 1.0, 0.0, 0.0, 0.0, 0.0, 0.0, 0.0]</td>\n",
       "      <td>256.0</td>\n",
       "      <td>256.0</td>\n",
       "      <td>0.0</td>\n",
       "      <td>3136.0</td>\n",
       "      <td>3.0</td>\n",
       "      <td>9.0</td>\n",
       "      <td>3136.0</td>\n",
       "      <td>589824.0</td>\n",
       "      <td>1.0</td>\n",
       "      <td>[0.0, 0.0, 0.0, 1.0, 0.0, 0.0, 0.0]</td>\n",
       "    </tr>\n",
       "    <tr>\n",
       "      <th>10 VGG/Sequential[features]/ReLU[9]/RELU</th>\n",
       "      <td>[1.0, 0.0, 0.0, 0.0, 0.0, 0.0, 0.0, 0.0, 0.0]</td>\n",
       "      <td>0.0</td>\n",
       "      <td>0.0</td>\n",
       "      <td>0.0</td>\n",
       "      <td>0.0</td>\n",
       "      <td>0.0</td>\n",
       "      <td>0.0</td>\n",
       "      <td>0.0</td>\n",
       "      <td>0.0</td>\n",
       "      <td>0.0</td>\n",
       "      <td>[0.0, 0.0, 0.0, 0.0, 0.0, 0.0, 0.0]</td>\n",
       "    </tr>\n",
       "    <tr>\n",
       "      <th>11 VGG/Sequential[features]/MaxPool2d[10]/max_pool2d</th>\n",
       "      <td>[0.0, 0.0, 0.0, 0.0, 0.0, 0.0, 1.0, 0.0, 0.0]</td>\n",
       "      <td>0.0</td>\n",
       "      <td>0.0</td>\n",
       "      <td>0.0</td>\n",
       "      <td>0.0</td>\n",
       "      <td>0.0</td>\n",
       "      <td>0.0</td>\n",
       "      <td>0.0</td>\n",
       "      <td>0.0</td>\n",
       "      <td>0.0</td>\n",
       "      <td>[0.0, 0.0, 0.0, 0.0, 0.0, 0.0, 0.0]</td>\n",
       "    </tr>\n",
       "    <tr>\n",
       "      <th>12 VGG/Sequential[features]/NNCFConv2d[11]/conv2d</th>\n",
       "      <td>[0.0, 0.0, 1.0, 0.0, 0.0, 0.0, 0.0, 0.0, 0.0]</td>\n",
       "      <td>256.0</td>\n",
       "      <td>512.0</td>\n",
       "      <td>0.0</td>\n",
       "      <td>784.0</td>\n",
       "      <td>3.0</td>\n",
       "      <td>12.0</td>\n",
       "      <td>784.0</td>\n",
       "      <td>1179648.0</td>\n",
       "      <td>1.0</td>\n",
       "      <td>[0.0, 0.0, 0.0, 0.0, 1.0, 0.0, 0.0]</td>\n",
       "    </tr>\n",
       "    <tr>\n",
       "      <th>13 VGG/Sequential[features]/ReLU[12]/RELU</th>\n",
       "      <td>[1.0, 0.0, 0.0, 0.0, 0.0, 0.0, 0.0, 0.0, 0.0]</td>\n",
       "      <td>0.0</td>\n",
       "      <td>0.0</td>\n",
       "      <td>0.0</td>\n",
       "      <td>0.0</td>\n",
       "      <td>0.0</td>\n",
       "      <td>0.0</td>\n",
       "      <td>0.0</td>\n",
       "      <td>0.0</td>\n",
       "      <td>0.0</td>\n",
       "      <td>[0.0, 0.0, 0.0, 0.0, 0.0, 0.0, 0.0]</td>\n",
       "    </tr>\n",
       "    <tr>\n",
       "      <th>14 VGG/Sequential[features]/NNCFConv2d[13]/conv2d</th>\n",
       "      <td>[0.0, 0.0, 1.0, 0.0, 0.0, 0.0, 0.0, 0.0, 0.0]</td>\n",
       "      <td>512.0</td>\n",
       "      <td>512.0</td>\n",
       "      <td>0.0</td>\n",
       "      <td>784.0</td>\n",
       "      <td>3.0</td>\n",
       "      <td>14.0</td>\n",
       "      <td>784.0</td>\n",
       "      <td>2359296.0</td>\n",
       "      <td>1.0</td>\n",
       "      <td>[0.0, 0.0, 0.0, 0.0, 0.0, 1.0, 0.0]</td>\n",
       "    </tr>\n",
       "    <tr>\n",
       "      <th>15 VGG/Sequential[features]/ReLU[14]/RELU</th>\n",
       "      <td>[1.0, 0.0, 0.0, 0.0, 0.0, 0.0, 0.0, 0.0, 0.0]</td>\n",
       "      <td>0.0</td>\n",
       "      <td>0.0</td>\n",
       "      <td>0.0</td>\n",
       "      <td>0.0</td>\n",
       "      <td>0.0</td>\n",
       "      <td>0.0</td>\n",
       "      <td>0.0</td>\n",
       "      <td>0.0</td>\n",
       "      <td>0.0</td>\n",
       "      <td>[0.0, 0.0, 0.0, 0.0, 0.0, 0.0, 0.0]</td>\n",
       "    </tr>\n",
       "    <tr>\n",
       "      <th>16 VGG/Sequential[features]/MaxPool2d[15]/max_pool2d</th>\n",
       "      <td>[0.0, 0.0, 0.0, 0.0, 0.0, 0.0, 1.0, 0.0, 0.0]</td>\n",
       "      <td>0.0</td>\n",
       "      <td>0.0</td>\n",
       "      <td>0.0</td>\n",
       "      <td>0.0</td>\n",
       "      <td>0.0</td>\n",
       "      <td>0.0</td>\n",
       "      <td>0.0</td>\n",
       "      <td>0.0</td>\n",
       "      <td>0.0</td>\n",
       "      <td>[0.0, 0.0, 0.0, 0.0, 0.0, 0.0, 0.0]</td>\n",
       "    </tr>\n",
       "    <tr>\n",
       "      <th>17 VGG/Sequential[features]/NNCFConv2d[16]/conv2d</th>\n",
       "      <td>[0.0, 0.0, 1.0, 0.0, 0.0, 0.0, 0.0, 0.0, 0.0]</td>\n",
       "      <td>512.0</td>\n",
       "      <td>512.0</td>\n",
       "      <td>0.0</td>\n",
       "      <td>196.0</td>\n",
       "      <td>3.0</td>\n",
       "      <td>17.0</td>\n",
       "      <td>196.0</td>\n",
       "      <td>2359296.0</td>\n",
       "      <td>1.0</td>\n",
       "      <td>[0.0, 0.0, 0.0, 0.0, 0.0, 0.0, 1.0]</td>\n",
       "    </tr>\n",
       "    <tr>\n",
       "      <th>18 VGG/Sequential[features]/ReLU[17]/RELU</th>\n",
       "      <td>[1.0, 0.0, 0.0, 0.0, 0.0, 0.0, 0.0, 0.0, 0.0]</td>\n",
       "      <td>0.0</td>\n",
       "      <td>0.0</td>\n",
       "      <td>0.0</td>\n",
       "      <td>0.0</td>\n",
       "      <td>0.0</td>\n",
       "      <td>0.0</td>\n",
       "      <td>0.0</td>\n",
       "      <td>0.0</td>\n",
       "      <td>0.0</td>\n",
       "      <td>[0.0, 0.0, 0.0, 0.0, 0.0, 0.0, 0.0]</td>\n",
       "    </tr>\n",
       "    <tr>\n",
       "      <th>19 VGG/Sequential[features]/NNCFConv2d[18]/conv2d</th>\n",
       "      <td>[0.0, 0.0, 1.0, 0.0, 0.0, 0.0, 0.0, 0.0, 0.0]</td>\n",
       "      <td>0.0</td>\n",
       "      <td>0.0</td>\n",
       "      <td>0.0</td>\n",
       "      <td>0.0</td>\n",
       "      <td>0.0</td>\n",
       "      <td>0.0</td>\n",
       "      <td>0.0</td>\n",
       "      <td>0.0</td>\n",
       "      <td>0.0</td>\n",
       "      <td>[0.0, 0.0, 0.0, 0.0, 0.0, 0.0, 0.0]</td>\n",
       "    </tr>\n",
       "    <tr>\n",
       "      <th>20 VGG/Sequential[features]/ReLU[19]/RELU</th>\n",
       "      <td>[1.0, 0.0, 0.0, 0.0, 0.0, 0.0, 0.0, 0.0, 0.0]</td>\n",
       "      <td>0.0</td>\n",
       "      <td>0.0</td>\n",
       "      <td>0.0</td>\n",
       "      <td>0.0</td>\n",
       "      <td>0.0</td>\n",
       "      <td>0.0</td>\n",
       "      <td>0.0</td>\n",
       "      <td>0.0</td>\n",
       "      <td>0.0</td>\n",
       "      <td>[0.0, 0.0, 0.0, 0.0, 0.0, 0.0, 0.0]</td>\n",
       "    </tr>\n",
       "    <tr>\n",
       "      <th>21 VGG/Sequential[features]/MaxPool2d[20]/max_pool2d</th>\n",
       "      <td>[0.0, 0.0, 0.0, 0.0, 0.0, 0.0, 1.0, 0.0, 0.0]</td>\n",
       "      <td>0.0</td>\n",
       "      <td>0.0</td>\n",
       "      <td>0.0</td>\n",
       "      <td>0.0</td>\n",
       "      <td>0.0</td>\n",
       "      <td>0.0</td>\n",
       "      <td>0.0</td>\n",
       "      <td>0.0</td>\n",
       "      <td>0.0</td>\n",
       "      <td>[0.0, 0.0, 0.0, 0.0, 0.0, 0.0, 0.0]</td>\n",
       "    </tr>\n",
       "    <tr>\n",
       "      <th>22 VGG/AdaptiveAvgPool2d[avgpool]/adaptive_avg_pool2d</th>\n",
       "      <td>[0.0, 1.0, 0.0, 0.0, 0.0, 0.0, 0.0, 0.0, 0.0]</td>\n",
       "      <td>0.0</td>\n",
       "      <td>0.0</td>\n",
       "      <td>0.0</td>\n",
       "      <td>0.0</td>\n",
       "      <td>0.0</td>\n",
       "      <td>0.0</td>\n",
       "      <td>0.0</td>\n",
       "      <td>0.0</td>\n",
       "      <td>0.0</td>\n",
       "      <td>[0.0, 0.0, 0.0, 0.0, 0.0, 0.0, 0.0]</td>\n",
       "    </tr>\n",
       "    <tr>\n",
       "      <th>23 VGG/flatten</th>\n",
       "      <td>[0.0, 0.0, 0.0, 0.0, 1.0, 0.0, 0.0, 0.0, 0.0]</td>\n",
       "      <td>0.0</td>\n",
       "      <td>0.0</td>\n",
       "      <td>0.0</td>\n",
       "      <td>0.0</td>\n",
       "      <td>0.0</td>\n",
       "      <td>0.0</td>\n",
       "      <td>0.0</td>\n",
       "      <td>0.0</td>\n",
       "      <td>0.0</td>\n",
       "      <td>[0.0, 0.0, 0.0, 0.0, 0.0, 0.0, 0.0]</td>\n",
       "    </tr>\n",
       "    <tr>\n",
       "      <th>24 VGG/Sequential[classifier]/NNCFLinear[0]/linear</th>\n",
       "      <td>[0.0, 0.0, 0.0, 0.0, 0.0, 1.0, 0.0, 0.0, 0.0]</td>\n",
       "      <td>0.0</td>\n",
       "      <td>0.0</td>\n",
       "      <td>0.0</td>\n",
       "      <td>0.0</td>\n",
       "      <td>0.0</td>\n",
       "      <td>0.0</td>\n",
       "      <td>0.0</td>\n",
       "      <td>0.0</td>\n",
       "      <td>0.0</td>\n",
       "      <td>[0.0, 0.0, 0.0, 0.0, 0.0, 0.0, 0.0]</td>\n",
       "    </tr>\n",
       "    <tr>\n",
       "      <th>25 VGG/Sequential[classifier]/ReLU[1]/RELU</th>\n",
       "      <td>[1.0, 0.0, 0.0, 0.0, 0.0, 0.0, 0.0, 0.0, 0.0]</td>\n",
       "      <td>0.0</td>\n",
       "      <td>0.0</td>\n",
       "      <td>0.0</td>\n",
       "      <td>0.0</td>\n",
       "      <td>0.0</td>\n",
       "      <td>0.0</td>\n",
       "      <td>0.0</td>\n",
       "      <td>0.0</td>\n",
       "      <td>0.0</td>\n",
       "      <td>[0.0, 0.0, 0.0, 0.0, 0.0, 0.0, 0.0]</td>\n",
       "    </tr>\n",
       "    <tr>\n",
       "      <th>26 VGG/Sequential[classifier]/Dropout[2]/dropout</th>\n",
       "      <td>[0.0, 0.0, 0.0, 1.0, 0.0, 0.0, 0.0, 0.0, 0.0]</td>\n",
       "      <td>0.0</td>\n",
       "      <td>0.0</td>\n",
       "      <td>0.0</td>\n",
       "      <td>0.0</td>\n",
       "      <td>0.0</td>\n",
       "      <td>0.0</td>\n",
       "      <td>0.0</td>\n",
       "      <td>0.0</td>\n",
       "      <td>0.0</td>\n",
       "      <td>[0.0, 0.0, 0.0, 0.0, 0.0, 0.0, 0.0]</td>\n",
       "    </tr>\n",
       "    <tr>\n",
       "      <th>27 VGG/Sequential[classifier]/NNCFLinear[3]/linear</th>\n",
       "      <td>[0.0, 0.0, 0.0, 0.0, 0.0, 1.0, 0.0, 0.0, 0.0]</td>\n",
       "      <td>0.0</td>\n",
       "      <td>0.0</td>\n",
       "      <td>0.0</td>\n",
       "      <td>0.0</td>\n",
       "      <td>0.0</td>\n",
       "      <td>0.0</td>\n",
       "      <td>0.0</td>\n",
       "      <td>0.0</td>\n",
       "      <td>0.0</td>\n",
       "      <td>[0.0, 0.0, 0.0, 0.0, 0.0, 0.0, 0.0]</td>\n",
       "    </tr>\n",
       "    <tr>\n",
       "      <th>28 VGG/Sequential[classifier]/ReLU[4]/RELU</th>\n",
       "      <td>[1.0, 0.0, 0.0, 0.0, 0.0, 0.0, 0.0, 0.0, 0.0]</td>\n",
       "      <td>0.0</td>\n",
       "      <td>0.0</td>\n",
       "      <td>0.0</td>\n",
       "      <td>0.0</td>\n",
       "      <td>0.0</td>\n",
       "      <td>0.0</td>\n",
       "      <td>0.0</td>\n",
       "      <td>0.0</td>\n",
       "      <td>0.0</td>\n",
       "      <td>[0.0, 0.0, 0.0, 0.0, 0.0, 0.0, 0.0]</td>\n",
       "    </tr>\n",
       "    <tr>\n",
       "      <th>29 VGG/Sequential[classifier]/Dropout[5]/dropout</th>\n",
       "      <td>[0.0, 0.0, 0.0, 1.0, 0.0, 0.0, 0.0, 0.0, 0.0]</td>\n",
       "      <td>0.0</td>\n",
       "      <td>0.0</td>\n",
       "      <td>0.0</td>\n",
       "      <td>0.0</td>\n",
       "      <td>0.0</td>\n",
       "      <td>0.0</td>\n",
       "      <td>0.0</td>\n",
       "      <td>0.0</td>\n",
       "      <td>0.0</td>\n",
       "      <td>[0.0, 0.0, 0.0, 0.0, 0.0, 0.0, 0.0]</td>\n",
       "    </tr>\n",
       "    <tr>\n",
       "      <th>30 VGG/Sequential[classifier]/NNCFLinear[6]/linear</th>\n",
       "      <td>[0.0, 0.0, 0.0, 0.0, 0.0, 1.0, 0.0, 0.0, 0.0]</td>\n",
       "      <td>0.0</td>\n",
       "      <td>0.0</td>\n",
       "      <td>0.0</td>\n",
       "      <td>0.0</td>\n",
       "      <td>0.0</td>\n",
       "      <td>0.0</td>\n",
       "      <td>0.0</td>\n",
       "      <td>0.0</td>\n",
       "      <td>0.0</td>\n",
       "      <td>[0.0, 0.0, 0.0, 0.0, 0.0, 0.0, 0.0]</td>\n",
       "    </tr>\n",
       "    <tr>\n",
       "      <th>31 /nncf_model_output</th>\n",
       "      <td>[0.0, 0.0, 0.0, 0.0, 0.0, 0.0, 0.0, 0.0, 1.0]</td>\n",
       "      <td>0.0</td>\n",
       "      <td>0.0</td>\n",
       "      <td>0.0</td>\n",
       "      <td>0.0</td>\n",
       "      <td>0.0</td>\n",
       "      <td>0.0</td>\n",
       "      <td>0.0</td>\n",
       "      <td>0.0</td>\n",
       "      <td>0.0</td>\n",
       "      <td>[0.0, 0.0, 0.0, 0.0, 0.0, 0.0, 0.0]</td>\n",
       "    </tr>\n",
       "  </tbody>\n",
       "</table>\n",
       "</div>"
      ],
      "text/plain": [
       "                                                                                           optype  \\\n",
       "0 /nncf_model_input                                 [0.0, 0.0, 0.0, 0.0, 0.0, 0.0, 0.0, 1.0, 0.0]   \n",
       "1 VGG/Sequential[features]/NNCFConv2d[0]/conv2d     [0.0, 0.0, 1.0, 0.0, 0.0, 0.0, 0.0, 0.0, 0.0]   \n",
       "2 VGG/Sequential[features]/ReLU[1]/RELU             [1.0, 0.0, 0.0, 0.0, 0.0, 0.0, 0.0, 0.0, 0.0]   \n",
       "3 VGG/Sequential[features]/MaxPool2d[2]/max_pool2d  [0.0, 0.0, 0.0, 0.0, 0.0, 0.0, 1.0, 0.0, 0.0]   \n",
       "4 VGG/Sequential[features]/NNCFConv2d[3]/conv2d     [0.0, 0.0, 1.0, 0.0, 0.0, 0.0, 0.0, 0.0, 0.0]   \n",
       "5 VGG/Sequential[features]/ReLU[4]/RELU             [1.0, 0.0, 0.0, 0.0, 0.0, 0.0, 0.0, 0.0, 0.0]   \n",
       "6 VGG/Sequential[features]/MaxPool2d[5]/max_pool2d  [0.0, 0.0, 0.0, 0.0, 0.0, 0.0, 1.0, 0.0, 0.0]   \n",
       "7 VGG/Sequential[features]/NNCFConv2d[6]/conv2d     [0.0, 0.0, 1.0, 0.0, 0.0, 0.0, 0.0, 0.0, 0.0]   \n",
       "8 VGG/Sequential[features]/ReLU[7]/RELU             [1.0, 0.0, 0.0, 0.0, 0.0, 0.0, 0.0, 0.0, 0.0]   \n",
       "9 VGG/Sequential[features]/NNCFConv2d[8]/conv2d     [0.0, 0.0, 1.0, 0.0, 0.0, 0.0, 0.0, 0.0, 0.0]   \n",
       "10 VGG/Sequential[features]/ReLU[9]/RELU            [1.0, 0.0, 0.0, 0.0, 0.0, 0.0, 0.0, 0.0, 0.0]   \n",
       "11 VGG/Sequential[features]/MaxPool2d[10]/max_p...  [0.0, 0.0, 0.0, 0.0, 0.0, 0.0, 1.0, 0.0, 0.0]   \n",
       "12 VGG/Sequential[features]/NNCFConv2d[11]/conv2d   [0.0, 0.0, 1.0, 0.0, 0.0, 0.0, 0.0, 0.0, 0.0]   \n",
       "13 VGG/Sequential[features]/ReLU[12]/RELU           [1.0, 0.0, 0.0, 0.0, 0.0, 0.0, 0.0, 0.0, 0.0]   \n",
       "14 VGG/Sequential[features]/NNCFConv2d[13]/conv2d   [0.0, 0.0, 1.0, 0.0, 0.0, 0.0, 0.0, 0.0, 0.0]   \n",
       "15 VGG/Sequential[features]/ReLU[14]/RELU           [1.0, 0.0, 0.0, 0.0, 0.0, 0.0, 0.0, 0.0, 0.0]   \n",
       "16 VGG/Sequential[features]/MaxPool2d[15]/max_p...  [0.0, 0.0, 0.0, 0.0, 0.0, 0.0, 1.0, 0.0, 0.0]   \n",
       "17 VGG/Sequential[features]/NNCFConv2d[16]/conv2d   [0.0, 0.0, 1.0, 0.0, 0.0, 0.0, 0.0, 0.0, 0.0]   \n",
       "18 VGG/Sequential[features]/ReLU[17]/RELU           [1.0, 0.0, 0.0, 0.0, 0.0, 0.0, 0.0, 0.0, 0.0]   \n",
       "19 VGG/Sequential[features]/NNCFConv2d[18]/conv2d   [0.0, 0.0, 1.0, 0.0, 0.0, 0.0, 0.0, 0.0, 0.0]   \n",
       "20 VGG/Sequential[features]/ReLU[19]/RELU           [1.0, 0.0, 0.0, 0.0, 0.0, 0.0, 0.0, 0.0, 0.0]   \n",
       "21 VGG/Sequential[features]/MaxPool2d[20]/max_p...  [0.0, 0.0, 0.0, 0.0, 0.0, 0.0, 1.0, 0.0, 0.0]   \n",
       "22 VGG/AdaptiveAvgPool2d[avgpool]/adaptive_avg_...  [0.0, 1.0, 0.0, 0.0, 0.0, 0.0, 0.0, 0.0, 0.0]   \n",
       "23 VGG/flatten                                      [0.0, 0.0, 0.0, 0.0, 1.0, 0.0, 0.0, 0.0, 0.0]   \n",
       "24 VGG/Sequential[classifier]/NNCFLinear[0]/linear  [0.0, 0.0, 0.0, 0.0, 0.0, 1.0, 0.0, 0.0, 0.0]   \n",
       "25 VGG/Sequential[classifier]/ReLU[1]/RELU          [1.0, 0.0, 0.0, 0.0, 0.0, 0.0, 0.0, 0.0, 0.0]   \n",
       "26 VGG/Sequential[classifier]/Dropout[2]/dropout    [0.0, 0.0, 0.0, 1.0, 0.0, 0.0, 0.0, 0.0, 0.0]   \n",
       "27 VGG/Sequential[classifier]/NNCFLinear[3]/linear  [0.0, 0.0, 0.0, 0.0, 0.0, 1.0, 0.0, 0.0, 0.0]   \n",
       "28 VGG/Sequential[classifier]/ReLU[4]/RELU          [1.0, 0.0, 0.0, 0.0, 0.0, 0.0, 0.0, 0.0, 0.0]   \n",
       "29 VGG/Sequential[classifier]/Dropout[5]/dropout    [0.0, 0.0, 0.0, 1.0, 0.0, 0.0, 0.0, 0.0, 0.0]   \n",
       "30 VGG/Sequential[classifier]/NNCFLinear[6]/linear  [0.0, 0.0, 0.0, 0.0, 0.0, 1.0, 0.0, 0.0, 0.0]   \n",
       "31 /nncf_model_output                               [0.0, 0.0, 0.0, 0.0, 0.0, 0.0, 0.0, 0.0, 1.0]   \n",
       "\n",
       "                                                      cin   cout  depthwise  \\\n",
       "0 /nncf_model_input                                   0.0    0.0        0.0   \n",
       "1 VGG/Sequential[features]/NNCFConv2d[0]/conv2d       3.0   64.0        0.0   \n",
       "2 VGG/Sequential[features]/ReLU[1]/RELU               0.0    0.0        0.0   \n",
       "3 VGG/Sequential[features]/MaxPool2d[2]/max_pool2d    0.0    0.0        0.0   \n",
       "4 VGG/Sequential[features]/NNCFConv2d[3]/conv2d      64.0  128.0        0.0   \n",
       "5 VGG/Sequential[features]/ReLU[4]/RELU               0.0    0.0        0.0   \n",
       "6 VGG/Sequential[features]/MaxPool2d[5]/max_pool2d    0.0    0.0        0.0   \n",
       "7 VGG/Sequential[features]/NNCFConv2d[6]/conv2d     128.0  256.0        0.0   \n",
       "8 VGG/Sequential[features]/ReLU[7]/RELU               0.0    0.0        0.0   \n",
       "9 VGG/Sequential[features]/NNCFConv2d[8]/conv2d     256.0  256.0        0.0   \n",
       "10 VGG/Sequential[features]/ReLU[9]/RELU              0.0    0.0        0.0   \n",
       "11 VGG/Sequential[features]/MaxPool2d[10]/max_p...    0.0    0.0        0.0   \n",
       "12 VGG/Sequential[features]/NNCFConv2d[11]/conv2d   256.0  512.0        0.0   \n",
       "13 VGG/Sequential[features]/ReLU[12]/RELU             0.0    0.0        0.0   \n",
       "14 VGG/Sequential[features]/NNCFConv2d[13]/conv2d   512.0  512.0        0.0   \n",
       "15 VGG/Sequential[features]/ReLU[14]/RELU             0.0    0.0        0.0   \n",
       "16 VGG/Sequential[features]/MaxPool2d[15]/max_p...    0.0    0.0        0.0   \n",
       "17 VGG/Sequential[features]/NNCFConv2d[16]/conv2d   512.0  512.0        0.0   \n",
       "18 VGG/Sequential[features]/ReLU[17]/RELU             0.0    0.0        0.0   \n",
       "19 VGG/Sequential[features]/NNCFConv2d[18]/conv2d     0.0    0.0        0.0   \n",
       "20 VGG/Sequential[features]/ReLU[19]/RELU             0.0    0.0        0.0   \n",
       "21 VGG/Sequential[features]/MaxPool2d[20]/max_p...    0.0    0.0        0.0   \n",
       "22 VGG/AdaptiveAvgPool2d[avgpool]/adaptive_avg_...    0.0    0.0        0.0   \n",
       "23 VGG/flatten                                        0.0    0.0        0.0   \n",
       "24 VGG/Sequential[classifier]/NNCFLinear[0]/linear    0.0    0.0        0.0   \n",
       "25 VGG/Sequential[classifier]/ReLU[1]/RELU            0.0    0.0        0.0   \n",
       "26 VGG/Sequential[classifier]/Dropout[2]/dropout      0.0    0.0        0.0   \n",
       "27 VGG/Sequential[classifier]/NNCFLinear[3]/linear    0.0    0.0        0.0   \n",
       "28 VGG/Sequential[classifier]/ReLU[4]/RELU            0.0    0.0        0.0   \n",
       "29 VGG/Sequential[classifier]/Dropout[5]/dropout      0.0    0.0        0.0   \n",
       "30 VGG/Sequential[classifier]/NNCFLinear[6]/linear    0.0    0.0        0.0   \n",
       "31 /nncf_model_output                                 0.0    0.0        0.0   \n",
       "\n",
       "                                                        ifm  kernel  node_id  \\\n",
       "0 /nncf_model_input                                     0.0     0.0      0.0   \n",
       "1 VGG/Sequential[features]/NNCFConv2d[0]/conv2d     50176.0     3.0      1.0   \n",
       "2 VGG/Sequential[features]/ReLU[1]/RELU                 0.0     0.0      0.0   \n",
       "3 VGG/Sequential[features]/MaxPool2d[2]/max_pool2d      0.0     0.0      0.0   \n",
       "4 VGG/Sequential[features]/NNCFConv2d[3]/conv2d     12544.0     3.0      4.0   \n",
       "5 VGG/Sequential[features]/ReLU[4]/RELU                 0.0     0.0      0.0   \n",
       "6 VGG/Sequential[features]/MaxPool2d[5]/max_pool2d      0.0     0.0      0.0   \n",
       "7 VGG/Sequential[features]/NNCFConv2d[6]/conv2d      3136.0     3.0      7.0   \n",
       "8 VGG/Sequential[features]/ReLU[7]/RELU                 0.0     0.0      0.0   \n",
       "9 VGG/Sequential[features]/NNCFConv2d[8]/conv2d      3136.0     3.0      9.0   \n",
       "10 VGG/Sequential[features]/ReLU[9]/RELU                0.0     0.0      0.0   \n",
       "11 VGG/Sequential[features]/MaxPool2d[10]/max_p...      0.0     0.0      0.0   \n",
       "12 VGG/Sequential[features]/NNCFConv2d[11]/conv2d     784.0     3.0     12.0   \n",
       "13 VGG/Sequential[features]/ReLU[12]/RELU               0.0     0.0      0.0   \n",
       "14 VGG/Sequential[features]/NNCFConv2d[13]/conv2d     784.0     3.0     14.0   \n",
       "15 VGG/Sequential[features]/ReLU[14]/RELU               0.0     0.0      0.0   \n",
       "16 VGG/Sequential[features]/MaxPool2d[15]/max_p...      0.0     0.0      0.0   \n",
       "17 VGG/Sequential[features]/NNCFConv2d[16]/conv2d     196.0     3.0     17.0   \n",
       "18 VGG/Sequential[features]/ReLU[17]/RELU               0.0     0.0      0.0   \n",
       "19 VGG/Sequential[features]/NNCFConv2d[18]/conv2d       0.0     0.0      0.0   \n",
       "20 VGG/Sequential[features]/ReLU[19]/RELU               0.0     0.0      0.0   \n",
       "21 VGG/Sequential[features]/MaxPool2d[20]/max_p...      0.0     0.0      0.0   \n",
       "22 VGG/AdaptiveAvgPool2d[avgpool]/adaptive_avg_...      0.0     0.0      0.0   \n",
       "23 VGG/flatten                                          0.0     0.0      0.0   \n",
       "24 VGG/Sequential[classifier]/NNCFLinear[0]/linear      0.0     0.0      0.0   \n",
       "25 VGG/Sequential[classifier]/ReLU[1]/RELU              0.0     0.0      0.0   \n",
       "26 VGG/Sequential[classifier]/Dropout[2]/dropout        0.0     0.0      0.0   \n",
       "27 VGG/Sequential[classifier]/NNCFLinear[3]/linear      0.0     0.0      0.0   \n",
       "28 VGG/Sequential[classifier]/ReLU[4]/RELU              0.0     0.0      0.0   \n",
       "29 VGG/Sequential[classifier]/Dropout[5]/dropout        0.0     0.0      0.0   \n",
       "30 VGG/Sequential[classifier]/NNCFLinear[6]/linear      0.0     0.0      0.0   \n",
       "31 /nncf_model_output                                   0.0     0.0      0.0   \n",
       "\n",
       "                                                        ofm      param  \\\n",
       "0 /nncf_model_input                                     0.0        0.0   \n",
       "1 VGG/Sequential[features]/NNCFConv2d[0]/conv2d     50176.0     1728.0   \n",
       "2 VGG/Sequential[features]/ReLU[1]/RELU                 0.0        0.0   \n",
       "3 VGG/Sequential[features]/MaxPool2d[2]/max_pool2d      0.0        0.0   \n",
       "4 VGG/Sequential[features]/NNCFConv2d[3]/conv2d     12544.0    73728.0   \n",
       "5 VGG/Sequential[features]/ReLU[4]/RELU                 0.0        0.0   \n",
       "6 VGG/Sequential[features]/MaxPool2d[5]/max_pool2d      0.0        0.0   \n",
       "7 VGG/Sequential[features]/NNCFConv2d[6]/conv2d      3136.0   294912.0   \n",
       "8 VGG/Sequential[features]/ReLU[7]/RELU                 0.0        0.0   \n",
       "9 VGG/Sequential[features]/NNCFConv2d[8]/conv2d      3136.0   589824.0   \n",
       "10 VGG/Sequential[features]/ReLU[9]/RELU                0.0        0.0   \n",
       "11 VGG/Sequential[features]/MaxPool2d[10]/max_p...      0.0        0.0   \n",
       "12 VGG/Sequential[features]/NNCFConv2d[11]/conv2d     784.0  1179648.0   \n",
       "13 VGG/Sequential[features]/ReLU[12]/RELU               0.0        0.0   \n",
       "14 VGG/Sequential[features]/NNCFConv2d[13]/conv2d     784.0  2359296.0   \n",
       "15 VGG/Sequential[features]/ReLU[14]/RELU               0.0        0.0   \n",
       "16 VGG/Sequential[features]/MaxPool2d[15]/max_p...      0.0        0.0   \n",
       "17 VGG/Sequential[features]/NNCFConv2d[16]/conv2d     196.0  2359296.0   \n",
       "18 VGG/Sequential[features]/ReLU[17]/RELU               0.0        0.0   \n",
       "19 VGG/Sequential[features]/NNCFConv2d[18]/conv2d       0.0        0.0   \n",
       "20 VGG/Sequential[features]/ReLU[19]/RELU               0.0        0.0   \n",
       "21 VGG/Sequential[features]/MaxPool2d[20]/max_p...      0.0        0.0   \n",
       "22 VGG/AdaptiveAvgPool2d[avgpool]/adaptive_avg_...      0.0        0.0   \n",
       "23 VGG/flatten                                          0.0        0.0   \n",
       "24 VGG/Sequential[classifier]/NNCFLinear[0]/linear      0.0        0.0   \n",
       "25 VGG/Sequential[classifier]/ReLU[1]/RELU              0.0        0.0   \n",
       "26 VGG/Sequential[classifier]/Dropout[2]/dropout        0.0        0.0   \n",
       "27 VGG/Sequential[classifier]/NNCFLinear[3]/linear      0.0        0.0   \n",
       "28 VGG/Sequential[classifier]/ReLU[4]/RELU              0.0        0.0   \n",
       "29 VGG/Sequential[classifier]/Dropout[5]/dropout        0.0        0.0   \n",
       "30 VGG/Sequential[classifier]/NNCFLinear[6]/linear      0.0        0.0   \n",
       "31 /nncf_model_output                                   0.0        0.0   \n",
       "\n",
       "                                                    stride  \\\n",
       "0 /nncf_model_input                                    0.0   \n",
       "1 VGG/Sequential[features]/NNCFConv2d[0]/conv2d        1.0   \n",
       "2 VGG/Sequential[features]/ReLU[1]/RELU                0.0   \n",
       "3 VGG/Sequential[features]/MaxPool2d[2]/max_pool2d     0.0   \n",
       "4 VGG/Sequential[features]/NNCFConv2d[3]/conv2d        1.0   \n",
       "5 VGG/Sequential[features]/ReLU[4]/RELU                0.0   \n",
       "6 VGG/Sequential[features]/MaxPool2d[5]/max_pool2d     0.0   \n",
       "7 VGG/Sequential[features]/NNCFConv2d[6]/conv2d        1.0   \n",
       "8 VGG/Sequential[features]/ReLU[7]/RELU                0.0   \n",
       "9 VGG/Sequential[features]/NNCFConv2d[8]/conv2d        1.0   \n",
       "10 VGG/Sequential[features]/ReLU[9]/RELU               0.0   \n",
       "11 VGG/Sequential[features]/MaxPool2d[10]/max_p...     0.0   \n",
       "12 VGG/Sequential[features]/NNCFConv2d[11]/conv2d      1.0   \n",
       "13 VGG/Sequential[features]/ReLU[12]/RELU              0.0   \n",
       "14 VGG/Sequential[features]/NNCFConv2d[13]/conv2d      1.0   \n",
       "15 VGG/Sequential[features]/ReLU[14]/RELU              0.0   \n",
       "16 VGG/Sequential[features]/MaxPool2d[15]/max_p...     0.0   \n",
       "17 VGG/Sequential[features]/NNCFConv2d[16]/conv2d      1.0   \n",
       "18 VGG/Sequential[features]/ReLU[17]/RELU              0.0   \n",
       "19 VGG/Sequential[features]/NNCFConv2d[18]/conv2d      0.0   \n",
       "20 VGG/Sequential[features]/ReLU[19]/RELU              0.0   \n",
       "21 VGG/Sequential[features]/MaxPool2d[20]/max_p...     0.0   \n",
       "22 VGG/AdaptiveAvgPool2d[avgpool]/adaptive_avg_...     0.0   \n",
       "23 VGG/flatten                                         0.0   \n",
       "24 VGG/Sequential[classifier]/NNCFLinear[0]/linear     0.0   \n",
       "25 VGG/Sequential[classifier]/ReLU[1]/RELU             0.0   \n",
       "26 VGG/Sequential[classifier]/Dropout[2]/dropout       0.0   \n",
       "27 VGG/Sequential[classifier]/NNCFLinear[3]/linear     0.0   \n",
       "28 VGG/Sequential[classifier]/ReLU[4]/RELU             0.0   \n",
       "29 VGG/Sequential[classifier]/Dropout[5]/dropout       0.0   \n",
       "30 VGG/Sequential[classifier]/NNCFLinear[6]/linear     0.0   \n",
       "31 /nncf_model_output                                  0.0   \n",
       "\n",
       "                                                                             cluster_id  \n",
       "0 /nncf_model_input                                 [0.0, 0.0, 0.0, 0.0, 0.0, 0.0, 0.0]  \n",
       "1 VGG/Sequential[features]/NNCFConv2d[0]/conv2d     [1.0, 0.0, 0.0, 0.0, 0.0, 0.0, 0.0]  \n",
       "2 VGG/Sequential[features]/ReLU[1]/RELU             [0.0, 0.0, 0.0, 0.0, 0.0, 0.0, 0.0]  \n",
       "3 VGG/Sequential[features]/MaxPool2d[2]/max_pool2d  [0.0, 0.0, 0.0, 0.0, 0.0, 0.0, 0.0]  \n",
       "4 VGG/Sequential[features]/NNCFConv2d[3]/conv2d     [0.0, 1.0, 0.0, 0.0, 0.0, 0.0, 0.0]  \n",
       "5 VGG/Sequential[features]/ReLU[4]/RELU             [0.0, 0.0, 0.0, 0.0, 0.0, 0.0, 0.0]  \n",
       "6 VGG/Sequential[features]/MaxPool2d[5]/max_pool2d  [0.0, 0.0, 0.0, 0.0, 0.0, 0.0, 0.0]  \n",
       "7 VGG/Sequential[features]/NNCFConv2d[6]/conv2d     [0.0, 0.0, 1.0, 0.0, 0.0, 0.0, 0.0]  \n",
       "8 VGG/Sequential[features]/ReLU[7]/RELU             [0.0, 0.0, 0.0, 0.0, 0.0, 0.0, 0.0]  \n",
       "9 VGG/Sequential[features]/NNCFConv2d[8]/conv2d     [0.0, 0.0, 0.0, 1.0, 0.0, 0.0, 0.0]  \n",
       "10 VGG/Sequential[features]/ReLU[9]/RELU            [0.0, 0.0, 0.0, 0.0, 0.0, 0.0, 0.0]  \n",
       "11 VGG/Sequential[features]/MaxPool2d[10]/max_p...  [0.0, 0.0, 0.0, 0.0, 0.0, 0.0, 0.0]  \n",
       "12 VGG/Sequential[features]/NNCFConv2d[11]/conv2d   [0.0, 0.0, 0.0, 0.0, 1.0, 0.0, 0.0]  \n",
       "13 VGG/Sequential[features]/ReLU[12]/RELU           [0.0, 0.0, 0.0, 0.0, 0.0, 0.0, 0.0]  \n",
       "14 VGG/Sequential[features]/NNCFConv2d[13]/conv2d   [0.0, 0.0, 0.0, 0.0, 0.0, 1.0, 0.0]  \n",
       "15 VGG/Sequential[features]/ReLU[14]/RELU           [0.0, 0.0, 0.0, 0.0, 0.0, 0.0, 0.0]  \n",
       "16 VGG/Sequential[features]/MaxPool2d[15]/max_p...  [0.0, 0.0, 0.0, 0.0, 0.0, 0.0, 0.0]  \n",
       "17 VGG/Sequential[features]/NNCFConv2d[16]/conv2d   [0.0, 0.0, 0.0, 0.0, 0.0, 0.0, 1.0]  \n",
       "18 VGG/Sequential[features]/ReLU[17]/RELU           [0.0, 0.0, 0.0, 0.0, 0.0, 0.0, 0.0]  \n",
       "19 VGG/Sequential[features]/NNCFConv2d[18]/conv2d   [0.0, 0.0, 0.0, 0.0, 0.0, 0.0, 0.0]  \n",
       "20 VGG/Sequential[features]/ReLU[19]/RELU           [0.0, 0.0, 0.0, 0.0, 0.0, 0.0, 0.0]  \n",
       "21 VGG/Sequential[features]/MaxPool2d[20]/max_p...  [0.0, 0.0, 0.0, 0.0, 0.0, 0.0, 0.0]  \n",
       "22 VGG/AdaptiveAvgPool2d[avgpool]/adaptive_avg_...  [0.0, 0.0, 0.0, 0.0, 0.0, 0.0, 0.0]  \n",
       "23 VGG/flatten                                      [0.0, 0.0, 0.0, 0.0, 0.0, 0.0, 0.0]  \n",
       "24 VGG/Sequential[classifier]/NNCFLinear[0]/linear  [0.0, 0.0, 0.0, 0.0, 0.0, 0.0, 0.0]  \n",
       "25 VGG/Sequential[classifier]/ReLU[1]/RELU          [0.0, 0.0, 0.0, 0.0, 0.0, 0.0, 0.0]  \n",
       "26 VGG/Sequential[classifier]/Dropout[2]/dropout    [0.0, 0.0, 0.0, 0.0, 0.0, 0.0, 0.0]  \n",
       "27 VGG/Sequential[classifier]/NNCFLinear[3]/linear  [0.0, 0.0, 0.0, 0.0, 0.0, 0.0, 0.0]  \n",
       "28 VGG/Sequential[classifier]/ReLU[4]/RELU          [0.0, 0.0, 0.0, 0.0, 0.0, 0.0, 0.0]  \n",
       "29 VGG/Sequential[classifier]/Dropout[5]/dropout    [0.0, 0.0, 0.0, 0.0, 0.0, 0.0, 0.0]  \n",
       "30 VGG/Sequential[classifier]/NNCFLinear[6]/linear  [0.0, 0.0, 0.0, 0.0, 0.0, 0.0, 0.0]  \n",
       "31 /nncf_model_output                               [0.0, 0.0, 0.0, 0.0, 0.0, 0.0, 0.0]  "
      ]
     },
     "execution_count": 76,
     "metadata": {},
     "output_type": "execute_result"
    }
   ],
   "source": [
    "features_per_node"
   ]
  },
  {
   "cell_type": "markdown",
   "metadata": {},
   "source": [
    "#### Features per Node API"
   ]
  },
  {
   "cell_type": "code",
   "execution_count": 77,
   "metadata": {},
   "outputs": [],
   "source": [
    "graph_features = requests.get(url=url_graph_features).json()"
   ]
  },
  {
   "cell_type": "code",
   "execution_count": 78,
   "metadata": {},
   "outputs": [],
   "source": [
    "graph_feature_df = pd.DataFrame.from_dict(graph_features)"
   ]
  },
  {
   "cell_type": "code",
   "execution_count": 79,
   "metadata": {},
   "outputs": [
    {
     "data": {
      "text/plain": [
       "dict_keys(['action_space', 'edges', 'node_features', 'rc'])"
      ]
     },
     "execution_count": 79,
     "metadata": {},
     "output_type": "execute_result"
    }
   ],
   "source": [
    "graph_features.keys()"
   ]
  },
  {
   "cell_type": "markdown",
   "metadata": {},
   "source": [
    "#### Sample evaluation configuration"
   ]
  },
  {
   "cell_type": "code",
   "execution_count": 80,
   "metadata": {},
   "outputs": [
    {
     "data": {
      "text/plain": [
       "{'0': 0.0, '1': 0.0, '2': 0.0, '3': 0.0, '4': 0.0, '5': 0.0, '6': 0.0}"
      ]
     },
     "execution_count": 80,
     "metadata": {},
     "output_type": "execute_result"
    }
   ],
   "source": [
    "eval_cfg = requests.get(url=url_eval_req).json()\n",
    "# key is cluster id\n",
    "# value is the pruning rate of a cluster\n",
    "# replace value between 0 - 1\n",
    "eval_cfg"
   ]
  },
  {
   "cell_type": "markdown",
   "metadata": {},
   "source": [
    "#### Evaluation with random groupwise pruning "
   ]
  },
  {
   "cell_type": "code",
   "execution_count": 81,
   "metadata": {},
   "outputs": [],
   "source": [
    "eval_cfg = {k: np.around(np.random.random(), 3) for k, v in eval_cfg.items()}"
   ]
  },
  {
   "cell_type": "code",
   "execution_count": 82,
   "metadata": {},
   "outputs": [
    {
     "data": {
      "text/plain": [
       "{'0': 0.958,\n",
       " '1': 0.315,\n",
       " '2': 0.721,\n",
       " '3': 0.919,\n",
       " '4': 0.226,\n",
       " '5': 0.564,\n",
       " '6': 0.442}"
      ]
     },
     "execution_count": 82,
     "metadata": {},
     "output_type": "execute_result"
    }
   ],
   "source": [
    "eval_cfg"
   ]
  },
  {
   "cell_type": "code",
   "execution_count": 83,
   "metadata": {},
   "outputs": [],
   "source": [
    "req = requests.post(url_evaluate, json = eval_cfg)"
   ]
  },
  {
   "cell_type": "code",
   "execution_count": 84,
   "metadata": {},
   "outputs": [],
   "source": [
    "eval_results = req.json()"
   ]
  },
  {
   "cell_type": "code",
   "execution_count": 85,
   "metadata": {},
   "outputs": [
    {
     "name": "stdout",
     "output_type": "stream",
     "text": [
      "cached_eval\n",
      "meta_data\n",
      "msg\n",
      "processing_time\n",
      "rc\n"
     ]
    }
   ],
   "source": [
    "for k in eval_results.keys():\n",
    "    print(k)"
   ]
  },
  {
   "cell_type": "markdown",
   "metadata": {},
   "source": [
    "## What is new?"
   ]
  },
  {
   "cell_type": "markdown",
   "metadata": {},
   "source": [
    "### Two type of evaluation (synonymous to ML validation and test)"
   ]
  },
  {
   "cell_type": "code",
   "execution_count": 98,
   "metadata": {},
   "outputs": [],
   "source": [
    "# both /evaluate and /test have exact interface\n",
    "host_url = 'http://csr-dgx1-03.jf.intel.com:5005/'\n",
    "url_evaluate = host_url + 'evaluate'\n",
    "url_test = host_url + 'test'"
   ]
  },
  {
   "cell_type": "code",
   "execution_count": 92,
   "metadata": {},
   "outputs": [
    {
     "data": {
      "text/plain": [
       "{'0': 0.0, '1': 0.0, '2': 0.0, '3': 0.0, '4': 0.0, '5': 0.0, '6': 0.0}"
      ]
     },
     "execution_count": 92,
     "metadata": {},
     "output_type": "execute_result"
    }
   ],
   "source": [
    "eval_cfg = requests.get(url=url_eval_req).json()\n",
    "eval_cfg"
   ]
  },
  {
   "cell_type": "markdown",
   "metadata": {},
   "source": [
    "##### A new metadata (key:eval_type) to indicate the type of evaluation"
   ]
  },
  {
   "cell_type": "code",
   "execution_count": 94,
   "metadata": {},
   "outputs": [
    {
     "name": "stdout",
     "output_type": "stream",
     "text": [
      "evaluate {'top1': 69.03044871794872, 'top5': 86.43830128205128}\n"
     ]
    }
   ],
   "source": [
    "req = requests.post(url_evaluate, json = eval_cfg)\n",
    "eval_results = req.json()\n",
    "print(eval_results['meta_data']['eval_type'], eval_results['meta_data']['task_metric'])"
   ]
  },
  {
   "cell_type": "code",
   "execution_count": 95,
   "metadata": {},
   "outputs": [
    {
     "name": "stdout",
     "output_type": "stream",
     "text": [
      "test {'top1': 69.0625, 'top5': 88.64983974358974}\n"
     ]
    }
   ],
   "source": [
    "req = requests.post(url_test, json = eval_cfg)\n",
    "eval_results = req.json()\n",
    "print(eval_results['meta_data']['eval_type'], eval_results['meta_data']['task_metric'])"
   ]
  },
  {
   "cell_type": "markdown",
   "metadata": {},
   "source": [
    "##### Sample output of Face Detection evaluate and test"
   ]
  },
  {
   "cell_type": "code",
   "execution_count": 103,
   "metadata": {},
   "outputs": [
    {
     "name": "stdout",
     "output_type": "stream",
     "text": [
      "evaluate {'loss': 3.104176954789595, 'loss_bbox': 0.9102993137908705, 'loss_cls': 2.1938776355801206}\n"
     ]
    }
   ],
   "source": [
    "url_eval_req = host_url + 'sample_eval_req'\n",
    "url_evaluate = host_url + 'evaluate'\n",
    "eval_cfg = requests.get(url=url_eval_req).json()\n",
    "req = requests.post(url_evaluate, json = eval_cfg)\n",
    "eval_results = req.json()\n",
    "print(eval_results['meta_data']['eval_type'], eval_results['meta_data']['task_metric'])"
   ]
  },
  {
   "cell_type": "code",
   "execution_count": 104,
   "metadata": {},
   "outputs": [
    {
     "name": "stdout",
     "output_type": "stream",
     "text": [
      "test {'bbox_mAP': 0.16, 'bbox_mAP_50': 0.329, 'bbox_mAP_75': 0.14, 'bbox_mAP_copypaste': '0.160 0.329 0.140 0.045 0.395 0.624', 'bbox_mAP_l': 0.624, 'bbox_mAP_m': 0.395, 'bbox_mAP_s': 0.045}\n"
     ]
    }
   ],
   "source": [
    "url_eval_req = host_url + 'sample_eval_req'\n",
    "url_test = host_url + 'test'\n",
    "eval_cfg = requests.get(url=url_eval_req).json()\n",
    "req = requests.post(url_test, json = eval_cfg)\n",
    "eval_results = req.json()\n",
    "print(eval_results['meta_data']['eval_type'], eval_results['meta_data']['task_metric'])"
   ]
  },
  {
   "cell_type": "markdown",
   "metadata": {},
   "source": [
    "### Basic fine-tuning config will be returned as well"
   ]
  },
  {
   "cell_type": "markdown",
   "metadata": {},
   "source": [
    "*** Please save this on NEMO end"
   ]
  },
  {
   "cell_type": "code",
   "execution_count": 105,
   "metadata": {},
   "outputs": [
    {
     "data": {
      "text/plain": [
       "{'algorithm': 'filter_pruning',\n",
       " 'compression_lr_multiplier': None,\n",
       " 'eval_cache': True,\n",
       " 'ignored_scopes': ['SingleStageDetector/SSDHead[bbox_head]/ModuleList[cls_convs]/Sequential[0]/NNCFConv2d[0]',\n",
       "  'SingleStageDetector/SSDHead[bbox_head]/ModuleList[cls_convs]/Sequential[0]/NNCFConv2d[0]',\n",
       "  'SingleStageDetector/SSDHead[bbox_head]/ModuleList[reg_convs]/Sequential[0]/NNCFConv2d[0]',\n",
       "  'SingleStageDetector/SSDHead[bbox_head]/ModuleList[reg_convs]/Sequential[0]/NNCFConv2d[0]',\n",
       "  'SingleStageDetector/SSDHead[bbox_head]/ModuleList[reg_convs]/Sequential[1]/NNCFConv2d[0]',\n",
       "  'SingleStageDetector/SSDHead[bbox_head]/ModuleList[reg_convs]/Sequential[1]/NNCFConv2d[0]',\n",
       "  'SingleStageDetector/SSDHead[bbox_head]/ModuleList[cls_convs]/Sequential[1]/NNCFConv2d[0]',\n",
       "  'SingleStageDetector/SSDHead[bbox_head]/ModuleList[cls_convs]/Sequential[1]/NNCFConv2d[0]'],\n",
       " 'log_dir': '/tmp/paas-facedet-log/face-detection-0200-2021-07-01__23-23-20',\n",
       " 'params': {'groupwise_pruning_cfg': {'0': 0.0,\n",
       "   '1': 0.0,\n",
       "   '10': 0.0,\n",
       "   '11': 0.0,\n",
       "   '12': 0.0,\n",
       "   '13': 0.0,\n",
       "   '14': 0.0,\n",
       "   '15': 0.0,\n",
       "   '16': 0.0,\n",
       "   '17': 0.0,\n",
       "   '18': 0.0,\n",
       "   '19': 0.0,\n",
       "   '2': 0.0,\n",
       "   '20': 0.0,\n",
       "   '21': 0.0,\n",
       "   '22': 0.0,\n",
       "   '23': 0.0,\n",
       "   '24': 0.0,\n",
       "   '25': 0.0,\n",
       "   '26': 0.0,\n",
       "   '27': 0.0,\n",
       "   '3': 0.0,\n",
       "   '4': 0.0,\n",
       "   '5': 0.0,\n",
       "   '6': 0.0,\n",
       "   '7': 0.0,\n",
       "   '8': 0.0,\n",
       "   '9': 0.0},\n",
       "  'num_init_steps': 0,\n",
       "  'prune_downsample_convs': 'true,',\n",
       "  'prune_first_conv': 'true,',\n",
       "  'prune_last_conv': 'true,',\n",
       "  'pruning_init': 0.1,\n",
       "  'pruning_steps': 100,\n",
       "  'pruning_target': 0.0,\n",
       "  'schedule': 'paas_ft',\n",
       "  'weight_importance': 'L1'},\n",
       " 'pruning_init': 0.0,\n",
       " 'restful': True}"
      ]
     },
     "execution_count": 105,
     "metadata": {},
     "output_type": "execute_result"
    }
   ],
   "source": [
    "eval_results['meta_data']['ft_cfg']"
   ]
  }
 ],
 "metadata": {
  "kernelspec": {
   "display_name": "Python 3",
   "language": "python",
   "name": "python3"
  },
  "language_info": {
   "codemirror_mode": {
    "name": "ipython",
    "version": 3
   },
   "file_extension": ".py",
   "mimetype": "text/x-python",
   "name": "python",
   "nbconvert_exporter": "python",
   "pygments_lexer": "ipython3",
   "version": "3.6.9"
  }
 },
 "nbformat": 4,
 "nbformat_minor": 4
}
