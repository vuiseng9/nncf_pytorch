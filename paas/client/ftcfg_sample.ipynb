{
 "cells": [
  {
   "cell_type": "code",
   "execution_count": 1,
   "id": "ba3c7577-8b2f-4305-8ab8-00a079248edc",
   "metadata": {},
   "outputs": [],
   "source": [
    "import sys\n",
    "sys.path.append(\"../helper/\")"
   ]
  },
  {
   "cell_type": "code",
   "execution_count": 2,
   "id": "7f533c85-5c9f-4b74-9851-5f7a18ca6089",
   "metadata": {},
   "outputs": [],
   "source": [
    "import json"
   ]
  },
  {
   "cell_type": "code",
   "execution_count": 3,
   "id": "d5299eb0-7ff4-432d-bfe0-9e3879716af5",
   "metadata": {},
   "outputs": [],
   "source": [
    "from generate_imagenet_paas_ft_config import MobileNetV2_FTCfg, ResNet50_FTCfg, ResNet101_FTCfg, jsonfile2dict"
   ]
  },
  {
   "cell_type": "markdown",
   "id": "cc43ef53-13b8-447a-b5cd-740f2de44731",
   "metadata": {},
   "source": [
    "The imported classes are the default fine-tuning for each of these imagenet workload. The remaining gap is to insert the compression and groupwise filter pruning cfg before serializing out for training job."
   ]
  },
  {
   "cell_type": "code",
   "execution_count": 4,
   "id": "f8d7416b-e281-4ff9-95f6-8d4a44caa0ad",
   "metadata": {},
   "outputs": [],
   "source": [
    "mbnv2_examples = MobileNetV2_FTCfg()"
   ]
  },
  {
   "cell_type": "code",
   "execution_count": 5,
   "id": "35d1e53b-74b0-42d0-9ef0-a3e84d984c4a",
   "metadata": {},
   "outputs": [
    {
     "data": {
      "text/plain": [
       "{\n",
       "    \"restful\": false,\n",
       "    \"model\": \"mobilenet_v2\",\n",
       "    \"pretrained\": true,\n",
       "    \"input_info\": {\n",
       "        \"sample_size\": [\n",
       "            1,\n",
       "            3,\n",
       "            224,\n",
       "            224\n",
       "        ]\n",
       "    },\n",
       "    \"batch_size\": 200,\n",
       "    \"workers\": 6,\n",
       "    \"epochs\": 15,\n",
       "    \"multiprocessing_distributed\": true,\n",
       "    \"optimizer\": {\n",
       "        \"base_lr\": 0.00031,\n",
       "        \"schedule_type\": \"exponential\",\n",
       "        \"gamma\": 0.9,\n",
       "        \"type\": \"Adam\"\n",
       "    },\n",
       "    \"compression\": null\n",
       "}"
      ]
     },
     "execution_count": 5,
     "metadata": {},
     "output_type": "execute_result"
    }
   ],
   "source": [
    "# Notice the compression key has null values\n",
    "mbnv2_examples"
   ]
  },
  {
   "cell_type": "code",
   "execution_count": 6,
   "id": "99425ae7-c2cc-47e2-a3ba-657797956b5e",
   "metadata": {},
   "outputs": [
    {
     "data": {
      "text/plain": [
       "True"
      ]
     },
     "execution_count": 6,
     "metadata": {},
     "output_type": "execute_result"
    }
   ],
   "source": [
    "mbnv2_examples.has_none_value()"
   ]
  },
  {
   "cell_type": "code",
   "execution_count": 7,
   "id": "94d822c0-da8c-4340-87c4-68dfeeea188c",
   "metadata": {},
   "outputs": [
    {
     "ename": "ValueError",
     "evalue": "Null values found in ft cfg, pls check.\n{\n    \"restful\": false,\n    \"model\": \"mobilenet_v2\",\n    \"pretrained\": true,\n    \"input_info\": {\n        \"sample_size\": [\n            1,\n            3,\n            224,\n            224\n        ]\n    },\n    \"batch_size\": 200,\n    \"workers\": 6,\n    \"epochs\": 15,\n    \"multiprocessing_distributed\": true,\n    \"optimizer\": {\n        \"base_lr\": 0.00031,\n        \"schedule_type\": \"exponential\",\n        \"gamma\": 0.9,\n        \"type\": \"Adam\"\n    },\n    \"compression\": null\n}",
     "output_type": "error",
     "traceback": [
      "\u001b[0;31m---------------------------------------------------------------------------\u001b[0m",
      "\u001b[0;31mValueError\u001b[0m                                Traceback (most recent call last)",
      "\u001b[0;32m<ipython-input-7-483f5657306c>\u001b[0m in \u001b[0;36m<module>\u001b[0;34m\u001b[0m\n\u001b[1;32m      1\u001b[0m \u001b[0;31m# The object prevents a json dump if any null value exists.\u001b[0m\u001b[0;34m\u001b[0m\u001b[0;34m\u001b[0m\u001b[0;34m\u001b[0m\u001b[0m\n\u001b[0;32m----> 2\u001b[0;31m \u001b[0mmbnv2_examples\u001b[0m\u001b[0;34m.\u001b[0m\u001b[0mserialize\u001b[0m\u001b[0;34m(\u001b[0m\u001b[0;34m'/tmp/mobilenet_v2_filter_pruning_ft.json'\u001b[0m\u001b[0;34m)\u001b[0m\u001b[0;34m\u001b[0m\u001b[0;34m\u001b[0m\u001b[0m\n\u001b[0m",
      "\u001b[0;32m~/ote-fd/nncf/paas/client/../helper/generate_imagenet_paas_ft_config.py\u001b[0m in \u001b[0;36mserialize\u001b[0;34m(self, path)\u001b[0m\n\u001b[1;32m     58\u001b[0m             \u001b[0;32mraise\u001b[0m \u001b[0mValueError\u001b[0m\u001b[0;34m(\u001b[0m\u001b[0;34m'{} is an invalid path.'\u001b[0m\u001b[0;34m.\u001b[0m\u001b[0mformat\u001b[0m\u001b[0;34m(\u001b[0m\u001b[0mpath\u001b[0m\u001b[0;34m)\u001b[0m\u001b[0;34m)\u001b[0m\u001b[0;34m\u001b[0m\u001b[0;34m\u001b[0m\u001b[0m\n\u001b[1;32m     59\u001b[0m         \u001b[0;32mif\u001b[0m \u001b[0mself\u001b[0m\u001b[0;34m.\u001b[0m\u001b[0mhas_none_value\u001b[0m\u001b[0;34m(\u001b[0m\u001b[0;34m)\u001b[0m\u001b[0;34m:\u001b[0m\u001b[0;34m\u001b[0m\u001b[0;34m\u001b[0m\u001b[0m\n\u001b[0;32m---> 60\u001b[0;31m             \u001b[0;32mraise\u001b[0m \u001b[0mValueError\u001b[0m\u001b[0;34m(\u001b[0m\u001b[0;34m'Null values found in ft cfg, pls check.\\n{}'\u001b[0m\u001b[0;34m.\u001b[0m\u001b[0mformat\u001b[0m\u001b[0;34m(\u001b[0m\u001b[0mself\u001b[0m\u001b[0;34m)\u001b[0m\u001b[0;34m)\u001b[0m\u001b[0;34m\u001b[0m\u001b[0;34m\u001b[0m\u001b[0m\n\u001b[0m\u001b[1;32m     61\u001b[0m \u001b[0;34m\u001b[0m\u001b[0m\n\u001b[1;32m     62\u001b[0m         \u001b[0mos\u001b[0m\u001b[0;34m.\u001b[0m\u001b[0mmakedirs\u001b[0m\u001b[0;34m(\u001b[0m\u001b[0mos\u001b[0m\u001b[0;34m.\u001b[0m\u001b[0mpath\u001b[0m\u001b[0;34m.\u001b[0m\u001b[0mdirname\u001b[0m\u001b[0;34m(\u001b[0m\u001b[0mpath\u001b[0m\u001b[0;34m)\u001b[0m\u001b[0;34m,\u001b[0m \u001b[0mexist_ok\u001b[0m\u001b[0;34m=\u001b[0m\u001b[0;32mTrue\u001b[0m\u001b[0;34m)\u001b[0m\u001b[0;34m\u001b[0m\u001b[0;34m\u001b[0m\u001b[0m\n",
      "\u001b[0;31mValueError\u001b[0m: Null values found in ft cfg, pls check.\n{\n    \"restful\": false,\n    \"model\": \"mobilenet_v2\",\n    \"pretrained\": true,\n    \"input_info\": {\n        \"sample_size\": [\n            1,\n            3,\n            224,\n            224\n        ]\n    },\n    \"batch_size\": 200,\n    \"workers\": 6,\n    \"epochs\": 15,\n    \"multiprocessing_distributed\": true,\n    \"optimizer\": {\n        \"base_lr\": 0.00031,\n        \"schedule_type\": \"exponential\",\n        \"gamma\": 0.9,\n        \"type\": \"Adam\"\n    },\n    \"compression\": null\n}"
     ]
    }
   ],
   "source": [
    "# The object prevents a json dump if any null value exists.\n",
    "mbnv2_examples.serialize('/tmp/mobilenet_v2_filter_pruning_ft.json')"
   ]
  },
  {
   "cell_type": "code",
   "execution_count": 8,
   "id": "3afa8f31-9680-4e74-9ae3-abefded6c1f5",
   "metadata": {},
   "outputs": [],
   "source": [
    "# Assuming we have a json saved with prior PAAS returned response\n",
    "history_json = \"./0335287e761b441893be08cf6b1faebe.json\"\n",
    "history = jsonfile2dict(history_json)"
   ]
  },
  {
   "cell_type": "code",
   "execution_count": 9,
   "id": "244497af-5ba8-4ca2-8271-99d2c216b932",
   "metadata": {},
   "outputs": [
    {
     "data": {
      "text/plain": [
       "{'algorithm': 'filter_pruning',\n",
       " 'params': {'groupwise_pruning_cfg': {'0': 0.621,\n",
       "   '1': 0.831,\n",
       "   '10': 0.485,\n",
       "   '11': 0.036,\n",
       "   '12': 0.076,\n",
       "   '13': 0.444,\n",
       "   '14': 0.385,\n",
       "   '15': 0.613,\n",
       "   '16': 0.548,\n",
       "   '17': 0.784,\n",
       "   '18': 0.341,\n",
       "   '19': 0.779,\n",
       "   '2': 0.915,\n",
       "   '20': 0.246,\n",
       "   '21': 0.154,\n",
       "   '22': 0.38,\n",
       "   '23': 0.521,\n",
       "   '3': 0.082,\n",
       "   '4': 0.88,\n",
       "   '5': 0.212,\n",
       "   '6': 0.241,\n",
       "   '7': 0.363,\n",
       "   '8': 0.539,\n",
       "   '9': 0.498},\n",
       "  'num_init_steps': 0,\n",
       "  'prune_downsample_convs': True,\n",
       "  'prune_first_conv': True,\n",
       "  'prune_last_conv': True,\n",
       "  'pruning_steps': 100,\n",
       "  'pruning_target': 0.0,\n",
       "  'schedule': 'paas_ft',\n",
       "  'weight_importance': 'L1'},\n",
       " 'pruning_init': 0.0}"
      ]
     },
     "execution_count": 9,
     "metadata": {},
     "output_type": "execute_result"
    }
   ],
   "source": [
    "history"
   ]
  },
  {
   "cell_type": "code",
   "execution_count": 10,
   "id": "1d5ac4d1-6b32-4625-8cba-4ae7d0b02c8a",
   "metadata": {},
   "outputs": [],
   "source": [
    "# extract \"ft_cfg\" and assign it to FTCfg object\n",
    "mbnv2_examples.set_compression_cfg(history)"
   ]
  },
  {
   "cell_type": "code",
   "execution_count": 11,
   "id": "029843fa-c25a-484e-b7e1-c6010ca1ad2c",
   "metadata": {},
   "outputs": [
    {
     "data": {
      "text/plain": [
       "False"
      ]
     },
     "execution_count": 11,
     "metadata": {},
     "output_type": "execute_result"
    }
   ],
   "source": [
    "mbnv2_examples.has_none_value()"
   ]
  },
  {
   "cell_type": "code",
   "execution_count": 12,
   "id": "069b26e1-bb90-47e8-ae17-3b8057ee714b",
   "metadata": {},
   "outputs": [],
   "source": [
    "# write out\n",
    "generate_ft_json_pth = '/tmp/mobilenet_v2_filter_pruning_ft.json'\n",
    "mbnv2_examples.serialize(generate_ft_json_pth)"
   ]
  },
  {
   "cell_type": "code",
   "execution_count": 13,
   "id": "8f63192f-992d-4fe8-a6ab-7ae50a1be596",
   "metadata": {},
   "outputs": [],
   "source": [
    "# test if serialization works\n",
    "loaded_cfg = jsonfile2dict(generate_ft_json_pth)"
   ]
  },
  {
   "cell_type": "code",
   "execution_count": 14,
   "id": "ab037008-eb34-4c05-8eeb-1620f18e38f1",
   "metadata": {},
   "outputs": [
    {
     "data": {
      "text/plain": [
       "{'restful': False,\n",
       " 'model': 'mobilenet_v2',\n",
       " 'pretrained': True,\n",
       " 'input_info': {'sample_size': [1, 3, 224, 224]},\n",
       " 'batch_size': 200,\n",
       " 'workers': 6,\n",
       " 'epochs': 15,\n",
       " 'multiprocessing_distributed': True,\n",
       " 'optimizer': {'base_lr': 0.00031,\n",
       "  'schedule_type': 'exponential',\n",
       "  'gamma': 0.9,\n",
       "  'type': 'Adam'},\n",
       " 'compression': {'algorithm': 'filter_pruning',\n",
       "  'params': {'groupwise_pruning_cfg': {'0': 0.621,\n",
       "    '1': 0.831,\n",
       "    '10': 0.485,\n",
       "    '11': 0.036,\n",
       "    '12': 0.076,\n",
       "    '13': 0.444,\n",
       "    '14': 0.385,\n",
       "    '15': 0.613,\n",
       "    '16': 0.548,\n",
       "    '17': 0.784,\n",
       "    '18': 0.341,\n",
       "    '19': 0.779,\n",
       "    '2': 0.915,\n",
       "    '20': 0.246,\n",
       "    '21': 0.154,\n",
       "    '22': 0.38,\n",
       "    '23': 0.521,\n",
       "    '3': 0.082,\n",
       "    '4': 0.88,\n",
       "    '5': 0.212,\n",
       "    '6': 0.241,\n",
       "    '7': 0.363,\n",
       "    '8': 0.539,\n",
       "    '9': 0.498},\n",
       "   'num_init_steps': 0,\n",
       "   'prune_downsample_convs': True,\n",
       "   'prune_first_conv': True,\n",
       "   'prune_last_conv': True,\n",
       "   'pruning_steps': 100,\n",
       "   'pruning_target': 0.0,\n",
       "   'schedule': 'paas_ft',\n",
       "   'weight_importance': 'L1'},\n",
       "  'pruning_init': 0.0}}"
      ]
     },
     "execution_count": 14,
     "metadata": {},
     "output_type": "execute_result"
    }
   ],
   "source": [
    "loaded_cfg"
   ]
  }
 ],
 "metadata": {
  "kernelspec": {
   "display_name": "Python 3",
   "language": "python",
   "name": "python3"
  },
  "language_info": {
   "codemirror_mode": {
    "name": "ipython",
    "version": 3
   },
   "file_extension": ".py",
   "mimetype": "text/x-python",
   "name": "python",
   "nbconvert_exporter": "python",
   "pygments_lexer": "ipython3",
   "version": "3.8.10"
  }
 },
 "nbformat": 4,
 "nbformat_minor": 5
}
